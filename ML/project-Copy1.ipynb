{
 "cells": [
  {
   "cell_type": "code",
   "execution_count": 1,
   "id": "83ffe1f8-5328-431d-8252-58765863f895",
   "metadata": {},
   "outputs": [],
   "source": [
    "from sklearn.utils import *\n",
    "from sklearn.metrics import *\n",
    "from sklearn.preprocessing import StandardScaler, MinMaxScaler\n",
    "from sklearn.metrics import accuracy_score\n",
    "from sklearn.model_selection import train_test_split\n",
    "import matplotlib.pyplot as plt\n",
    "import warnings\n",
    "import numpy as np\n",
    "import pandas as pd\n",
    "import seaborn as sns\n",
    "import os"
   ]
  },
  {
   "cell_type": "code",
   "execution_count": 2,
   "id": "a090b0a4-7090-433a-95c9-ad95aba81616",
   "metadata": {},
   "outputs": [],
   "source": [
    "FILE ='data/Regular_Season_Batter.csv'\n",
    "# 자료: https://dacon.io/competitions/official/62540/overview/description\n",
    "# 주제: 2019년 타자들의 상반기 OPS를 예측하는 모델"
   ]
  },
  {
   "cell_type": "code",
   "execution_count": 3,
   "id": "e93cc85c-b3e8-4059-9248-dd9821439154",
   "metadata": {},
   "outputs": [],
   "source": [
    "opsDF=pd.read_csv(FILE)"
   ]
  },
  {
   "cell_type": "code",
   "execution_count": 4,
   "id": "919e004c-d1a3-4403-a362-701f0f931dc9",
   "metadata": {
    "tags": []
   },
   "outputs": [
    {
     "data": {
      "text/html": [
       "<div>\n",
       "<style scoped>\n",
       "    .dataframe tbody tr th:only-of-type {\n",
       "        vertical-align: middle;\n",
       "    }\n",
       "\n",
       "    .dataframe tbody tr th {\n",
       "        vertical-align: top;\n",
       "    }\n",
       "\n",
       "    .dataframe thead th {\n",
       "        text-align: right;\n",
       "    }\n",
       "</style>\n",
       "<table border=\"1\" class=\"dataframe\">\n",
       "  <thead>\n",
       "    <tr style=\"text-align: right;\">\n",
       "      <th></th>\n",
       "      <th>batter_id</th>\n",
       "      <th>batter_name</th>\n",
       "      <th>year</th>\n",
       "      <th>team</th>\n",
       "      <th>avg</th>\n",
       "      <th>G</th>\n",
       "      <th>AB</th>\n",
       "      <th>R</th>\n",
       "      <th>H</th>\n",
       "      <th>2B</th>\n",
       "      <th>...</th>\n",
       "      <th>GDP</th>\n",
       "      <th>SLG</th>\n",
       "      <th>OBP</th>\n",
       "      <th>E</th>\n",
       "      <th>height/weight</th>\n",
       "      <th>year_born</th>\n",
       "      <th>position</th>\n",
       "      <th>career</th>\n",
       "      <th>OPS</th>\n",
       "      <th>starting_salary</th>\n",
       "    </tr>\n",
       "  </thead>\n",
       "  <tbody>\n",
       "    <tr>\n",
       "      <th>0</th>\n",
       "      <td>0</td>\n",
       "      <td>가르시아</td>\n",
       "      <td>2018</td>\n",
       "      <td>LG</td>\n",
       "      <td>0.339</td>\n",
       "      <td>50</td>\n",
       "      <td>183</td>\n",
       "      <td>27</td>\n",
       "      <td>62</td>\n",
       "      <td>9</td>\n",
       "      <td>...</td>\n",
       "      <td>3</td>\n",
       "      <td>0.519</td>\n",
       "      <td>0.383</td>\n",
       "      <td>9</td>\n",
       "      <td>177cm/93kg</td>\n",
       "      <td>1985년 04월 12일</td>\n",
       "      <td>내야수(우투우타)</td>\n",
       "      <td>쿠바 Ciego de Avila Maximo Gomez Baez(대)</td>\n",
       "      <td>0.902</td>\n",
       "      <td>NaN</td>\n",
       "    </tr>\n",
       "    <tr>\n",
       "      <th>1</th>\n",
       "      <td>1</td>\n",
       "      <td>강경학</td>\n",
       "      <td>2011</td>\n",
       "      <td>한화</td>\n",
       "      <td>0.000</td>\n",
       "      <td>2</td>\n",
       "      <td>1</td>\n",
       "      <td>0</td>\n",
       "      <td>0</td>\n",
       "      <td>0</td>\n",
       "      <td>...</td>\n",
       "      <td>0</td>\n",
       "      <td>0.000</td>\n",
       "      <td>0.000</td>\n",
       "      <td>1</td>\n",
       "      <td>180cm/72kg</td>\n",
       "      <td>1992년 08월 11일</td>\n",
       "      <td>내야수(우투좌타)</td>\n",
       "      <td>광주대성초-광주동성중-광주동성고</td>\n",
       "      <td>0.000</td>\n",
       "      <td>10000만원</td>\n",
       "    </tr>\n",
       "    <tr>\n",
       "      <th>2</th>\n",
       "      <td>1</td>\n",
       "      <td>강경학</td>\n",
       "      <td>2014</td>\n",
       "      <td>한화</td>\n",
       "      <td>0.221</td>\n",
       "      <td>41</td>\n",
       "      <td>86</td>\n",
       "      <td>11</td>\n",
       "      <td>19</td>\n",
       "      <td>2</td>\n",
       "      <td>...</td>\n",
       "      <td>1</td>\n",
       "      <td>0.349</td>\n",
       "      <td>0.337</td>\n",
       "      <td>6</td>\n",
       "      <td>180cm/72kg</td>\n",
       "      <td>1992년 08월 11일</td>\n",
       "      <td>내야수(우투좌타)</td>\n",
       "      <td>광주대성초-광주동성중-광주동성고</td>\n",
       "      <td>0.686</td>\n",
       "      <td>10000만원</td>\n",
       "    </tr>\n",
       "  </tbody>\n",
       "</table>\n",
       "<p>3 rows × 29 columns</p>\n",
       "</div>"
      ],
      "text/plain": [
       "   batter_id batter_name  year team    avg   G   AB   R   H  2B  ...  GDP  \\\n",
       "0          0        가르시아  2018   LG  0.339  50  183  27  62   9  ...    3   \n",
       "1          1         강경학  2011   한화  0.000   2    1   0   0   0  ...    0   \n",
       "2          1         강경학  2014   한화  0.221  41   86  11  19   2  ...    1   \n",
       "\n",
       "     SLG    OBP  E  height/weight      year_born   position  \\\n",
       "0  0.519  0.383  9     177cm/93kg  1985년 04월 12일  내야수(우투우타)   \n",
       "1  0.000  0.000  1     180cm/72kg  1992년 08월 11일  내야수(우투좌타)   \n",
       "2  0.349  0.337  6     180cm/72kg  1992년 08월 11일  내야수(우투좌타)   \n",
       "\n",
       "                                   career    OPS  starting_salary  \n",
       "0  쿠바 Ciego de Avila Maximo Gomez Baez(대)  0.902              NaN  \n",
       "1                       광주대성초-광주동성중-광주동성고  0.000          10000만원  \n",
       "2                       광주대성초-광주동성중-광주동성고  0.686          10000만원  \n",
       "\n",
       "[3 rows x 29 columns]"
      ]
     },
     "execution_count": 4,
     "metadata": {},
     "output_type": "execute_result"
    }
   ],
   "source": [
    "opsDF.head(3)\n",
    "# id, 이름 년도 팀 타율 타수 출전게임수 득점 안타...."
   ]
  },
  {
   "cell_type": "code",
   "execution_count": 5,
   "id": "cbd509c4-5a37-4b6b-b369-9f6d374644c8",
   "metadata": {},
   "outputs": [],
   "source": [
    "# 상관계수 확인\n",
    "sel=opsDF.corr()['OPS']\n",
    "# 출류율+장타율=타자들을 평가하는 스탯"
   ]
  },
  {
   "cell_type": "code",
   "execution_count": 6,
   "id": "0ca40362-6d0e-44d5-831c-1d9f337799b8",
   "metadata": {
    "tags": []
   },
   "outputs": [
    {
     "data": {
      "text/plain": [
       "OPS          1.000000\n",
       "SLG          0.971387\n",
       "OBP          0.935797\n",
       "avg          0.919696\n",
       "TB           0.589841\n",
       "RBI          0.576652\n",
       "H            0.571506\n",
       "R            0.558242\n",
       "2B           0.556933\n",
       "AB           0.546879\n",
       "BB           0.546328\n",
       "G            0.534539\n",
       "HR           0.525660\n",
       "SO           0.507726\n",
       "GDP          0.460984\n",
       "HBP          0.418250\n",
       "CS           0.283267\n",
       "E            0.280126\n",
       "3B           0.269084\n",
       "SB           0.240282\n",
       "year         0.054094\n",
       "batter_id   -0.039554\n",
       "Name: OPS, dtype: float64"
      ]
     },
     "execution_count": 6,
     "metadata": {},
     "output_type": "execute_result"
    }
   ],
   "source": [
    "sel.sort_values(ascending=False)\n",
    "# 'avg'(타율),'TB'(루타수),'SLG'(장타율),"
   ]
  },
  {
   "cell_type": "code",
   "execution_count": 7,
   "id": "b05e5d4c-2e29-4e18-818d-01cffd80b46a",
   "metadata": {},
   "outputs": [],
   "source": [
    "opsDF = opsDF[['avg','TB','SLG','OPS']]"
   ]
  },
  {
   "cell_type": "code",
   "execution_count": 8,
   "id": "c5037c06-9c56-4663-acf5-9cc38b63eecb",
   "metadata": {
    "tags": []
   },
   "outputs": [
    {
     "data": {
      "text/html": [
       "<div>\n",
       "<style scoped>\n",
       "    .dataframe tbody tr th:only-of-type {\n",
       "        vertical-align: middle;\n",
       "    }\n",
       "\n",
       "    .dataframe tbody tr th {\n",
       "        vertical-align: top;\n",
       "    }\n",
       "\n",
       "    .dataframe thead th {\n",
       "        text-align: right;\n",
       "    }\n",
       "</style>\n",
       "<table border=\"1\" class=\"dataframe\">\n",
       "  <thead>\n",
       "    <tr style=\"text-align: right;\">\n",
       "      <th></th>\n",
       "      <th>avg</th>\n",
       "      <th>TB</th>\n",
       "      <th>SLG</th>\n",
       "      <th>OPS</th>\n",
       "    </tr>\n",
       "  </thead>\n",
       "  <tbody>\n",
       "    <tr>\n",
       "      <th>0</th>\n",
       "      <td>0.339</td>\n",
       "      <td>95</td>\n",
       "      <td>0.519</td>\n",
       "      <td>0.902</td>\n",
       "    </tr>\n",
       "    <tr>\n",
       "      <th>1</th>\n",
       "      <td>0.000</td>\n",
       "      <td>0</td>\n",
       "      <td>0.000</td>\n",
       "      <td>0.000</td>\n",
       "    </tr>\n",
       "    <tr>\n",
       "      <th>2</th>\n",
       "      <td>0.221</td>\n",
       "      <td>30</td>\n",
       "      <td>0.349</td>\n",
       "      <td>0.686</td>\n",
       "    </tr>\n",
       "    <tr>\n",
       "      <th>3</th>\n",
       "      <td>0.257</td>\n",
       "      <td>101</td>\n",
       "      <td>0.325</td>\n",
       "      <td>0.673</td>\n",
       "    </tr>\n",
       "    <tr>\n",
       "      <th>4</th>\n",
       "      <td>0.158</td>\n",
       "      <td>26</td>\n",
       "      <td>0.257</td>\n",
       "      <td>0.489</td>\n",
       "    </tr>\n",
       "    <tr>\n",
       "      <th>...</th>\n",
       "      <td>...</td>\n",
       "      <td>...</td>\n",
       "      <td>...</td>\n",
       "      <td>...</td>\n",
       "    </tr>\n",
       "    <tr>\n",
       "      <th>2449</th>\n",
       "      <td>0.000</td>\n",
       "      <td>0</td>\n",
       "      <td>0.000</td>\n",
       "      <td>0.000</td>\n",
       "    </tr>\n",
       "    <tr>\n",
       "      <th>2450</th>\n",
       "      <td>0.000</td>\n",
       "      <td>0</td>\n",
       "      <td>0.000</td>\n",
       "      <td>0.000</td>\n",
       "    </tr>\n",
       "    <tr>\n",
       "      <th>2451</th>\n",
       "      <td>0.000</td>\n",
       "      <td>0</td>\n",
       "      <td>0.000</td>\n",
       "      <td>0.000</td>\n",
       "    </tr>\n",
       "    <tr>\n",
       "      <th>2452</th>\n",
       "      <td>0.291</td>\n",
       "      <td>47</td>\n",
       "      <td>0.402</td>\n",
       "      <td>0.761</td>\n",
       "    </tr>\n",
       "    <tr>\n",
       "      <th>2453</th>\n",
       "      <td>0.167</td>\n",
       "      <td>8</td>\n",
       "      <td>0.333</td>\n",
       "      <td>0.564</td>\n",
       "    </tr>\n",
       "  </tbody>\n",
       "</table>\n",
       "<p>2454 rows × 4 columns</p>\n",
       "</div>"
      ],
      "text/plain": [
       "        avg   TB    SLG    OPS\n",
       "0     0.339   95  0.519  0.902\n",
       "1     0.000    0  0.000  0.000\n",
       "2     0.221   30  0.349  0.686\n",
       "3     0.257  101  0.325  0.673\n",
       "4     0.158   26  0.257  0.489\n",
       "...     ...  ...    ...    ...\n",
       "2449  0.000    0  0.000  0.000\n",
       "2450  0.000    0  0.000  0.000\n",
       "2451  0.000    0  0.000  0.000\n",
       "2452  0.291   47  0.402  0.761\n",
       "2453  0.167    8  0.333  0.564\n",
       "\n",
       "[2454 rows x 4 columns]"
      ]
     },
     "execution_count": 8,
     "metadata": {},
     "output_type": "execute_result"
    }
   ],
   "source": [
    "opsDF"
   ]
  },
  {
   "cell_type": "code",
   "execution_count": 9,
   "id": "c79f7282-ba3a-479c-9a25-230a27d87b18",
   "metadata": {
    "tags": []
   },
   "outputs": [
    {
     "data": {
      "image/png": "[encoded data removed]",
      "text/plain": [
       "<Figure size 1000x800 with 1 Axes>"
      ]
     },
     "metadata": {},
     "output_type": "display_data"
    }
   ],
   "source": [
    "# 선형 관계 여부\n",
    "# 타겟 : OPS, 독립 : 'avg'(타율),'TB'(루타수),'SLG'(장타율),\n",
    "import matplotlib.pyplot as plt\n",
    "import seaborn as sns\n",
    "\n",
    "sns.set_style(\"whitegrid\")\n",
    "fig, ax = plt.subplots(figsize=(10, 8))\n",
    "\n",
    "sns.scatterplot(x=\"OPS\", y=\"avg\", data=opsDF, color=\"lightgray\", ax=ax, s=50, alpha=0.7)\n",
    "\n",
    "ax.set_xlabel(\"OPS\", fontsize=15)\n",
    "ax.set_ylabel(\"Average\", fontsize=15)\n",
    "ax.set_title(\"OPS vs Average\", fontsize=20)\n",
    "\n",
    "plt.show()"
   ]
  },
  {
   "cell_type": "code",
   "execution_count": 10,
   "id": "e82960f4-8241-41f1-a901-5f392a3181b6",
   "metadata": {
    "tags": []
   },
   "outputs": [
    {
     "data": {
      "text/plain": [
       "Text(0.5, 1.0, 'OPS vs TB')"
      ]
     },
     "execution_count": 10,
     "metadata": {},
     "output_type": "execute_result"
    },
    {
     "data": {
      "image/png": "[encoded data removed]",
      "text/plain": [
       "<Figure size 1000x800 with 1 Axes>"
      ]
     },
     "metadata": {},
     "output_type": "display_data"
    }
   ],
   "source": [
    "sns.set_style(\"whitegrid\")\n",
    "fig, ax = plt.subplots(figsize=(10, 8))\n",
    "\n",
    "ax.plot(opsDF.OPS, opsDF.TB, color=\"lightgray\", linestyle=\"--\", linewidth=2, alpha=0.7)\n",
    "\n",
    "ax.set_xlabel(\"OPS\", fontsize=15)\n",
    "ax.set_ylabel(\"TB\", fontsize=15)\n",
    "ax.set_title(\"OPS vs TB\", fontsize=20)\n"
   ]
  },
  {
   "cell_type": "code",
   "execution_count": 11,
   "id": "1d337ea6-bdc9-42bc-aae3-c45b922e9970",
   "metadata": {
    "tags": []
   },
   "outputs": [
    {
     "data": {
      "text/plain": [
       "Text(0.5, 1.0, 'OPS vs TB')"
      ]
     },
     "execution_count": 11,
     "metadata": {},
     "output_type": "execute_result"
    },
    {
     "data": {
      "image/png": "[encoded data removed]",
      "text/plain": [
       "<Figure size 1000x800 with 1 Axes>"
      ]
     },
     "metadata": {},
     "output_type": "display_data"
    }
   ],
   "source": [
    "sns.set_style(\"whitegrid\")\n",
    "fig, ax = plt.subplots(figsize=(10, 8))\n",
    "ax.plot(opsDF.OPS, opsDF.SLG, color=\"lightgray\", linestyle=\"--\", linewidth=2, alpha=0.7)\n",
    "\n",
    "ax.set_xlabel(\"OPS\", fontsize=15)\n",
    "ax.set_ylabel(\"SLG\", fontsize=15)\n",
    "ax.set_title(\"OPS vs TB\", fontsize=20)"
   ]
  },
  {
   "cell_type": "code",
   "execution_count": 12,
   "id": "6a99b92e-086d-4376-bc89-855fc2efc483",
   "metadata": {
    "tags": []
   },
   "outputs": [
    {
     "name": "stdout",
     "output_type": "stream",
     "text": [
      "<class 'pandas.core.frame.DataFrame'>\n",
      "RangeIndex: 2454 entries, 0 to 2453\n",
      "Data columns (total 4 columns):\n",
      " #   Column  Non-Null Count  Dtype  \n",
      "---  ------  --------------  -----  \n",
      " 0   avg     2428 non-null   float64\n",
      " 1   TB      2454 non-null   int64  \n",
      " 2   SLG     2428 non-null   float64\n",
      " 3   OPS     2428 non-null   float64\n",
      "dtypes: float64(3), int64(1)\n",
      "memory usage: 76.8 KB\n"
     ]
    },
    {
     "data": {
      "text/plain": [
       "(None,\n",
       " avg    26\n",
       " TB      0\n",
       " SLG    26\n",
       " OPS    26\n",
       " dtype: int64)"
      ]
     },
     "execution_count": 12,
     "metadata": {},
     "output_type": "execute_result"
    }
   ],
   "source": [
    "opsDF.info(),opsDF.isnull().sum()"
   ]
  },
  {
   "cell_type": "code",
   "execution_count": 13,
   "id": "52d87518-bfce-4602-af34-65412ddaad23",
   "metadata": {},
   "outputs": [],
   "source": [
    "opsDF = opsDF.dropna(subset=['avg']) # 타율\n",
    "opsDF = opsDF.dropna(subset=['SLG']) # 장타율\n",
    "# opsDF = opsDF.dropna(subset=['OBP']) # 출루율\n",
    "opsDF = opsDF.dropna(subset=['TB'])  # 루타 수\n",
    "opsDF = opsDF.dropna(subset=['OPS'])  "
   ]
  },
  {
   "cell_type": "code",
   "execution_count": 14,
   "id": "6c3b18db-5759-4fb4-b6df-6880a9958385",
   "metadata": {
    "tags": []
   },
   "outputs": [],
   "source": [
    "opsDF[\"avg\"] = round(opsDF[\"avg\"]*100,1)\n",
    "opsDF[\"SLG\"] = round(opsDF[\"SLG\"]*100,1) \n",
    "# opsDF[\"OBP\"] = round(opsDF[\"OBP\"]*100,1)"
   ]
  },
  {
   "cell_type": "code",
   "execution_count": 15,
   "id": "99ac2691-5ae4-4ed4-964e-fd8509c34699",
   "metadata": {
    "tags": []
   },
   "outputs": [
    {
     "data": {
      "text/html": [
       "<div>\n",
       "<style scoped>\n",
       "    .dataframe tbody tr th:only-of-type {\n",
       "        vertical-align: middle;\n",
       "    }\n",
       "\n",
       "    .dataframe tbody tr th {\n",
       "        vertical-align: top;\n",
       "    }\n",
       "\n",
       "    .dataframe thead th {\n",
       "        text-align: right;\n",
       "    }\n",
       "</style>\n",
       "<table border=\"1\" class=\"dataframe\">\n",
       "  <thead>\n",
       "    <tr style=\"text-align: right;\">\n",
       "      <th></th>\n",
       "      <th>avg</th>\n",
       "      <th>TB</th>\n",
       "      <th>SLG</th>\n",
       "      <th>OPS</th>\n",
       "    </tr>\n",
       "  </thead>\n",
       "  <tbody>\n",
       "    <tr>\n",
       "      <th>0</th>\n",
       "      <td>33.9</td>\n",
       "      <td>95</td>\n",
       "      <td>51.9</td>\n",
       "      <td>0.902</td>\n",
       "    </tr>\n",
       "    <tr>\n",
       "      <th>1</th>\n",
       "      <td>0.0</td>\n",
       "      <td>0</td>\n",
       "      <td>0.0</td>\n",
       "      <td>0.000</td>\n",
       "    </tr>\n",
       "    <tr>\n",
       "      <th>2</th>\n",
       "      <td>22.1</td>\n",
       "      <td>30</td>\n",
       "      <td>34.9</td>\n",
       "      <td>0.686</td>\n",
       "    </tr>\n",
       "    <tr>\n",
       "      <th>3</th>\n",
       "      <td>25.7</td>\n",
       "      <td>101</td>\n",
       "      <td>32.5</td>\n",
       "      <td>0.673</td>\n",
       "    </tr>\n",
       "    <tr>\n",
       "      <th>4</th>\n",
       "      <td>15.8</td>\n",
       "      <td>26</td>\n",
       "      <td>25.7</td>\n",
       "      <td>0.489</td>\n",
       "    </tr>\n",
       "  </tbody>\n",
       "</table>\n",
       "</div>"
      ],
      "text/plain": [
       "    avg   TB   SLG    OPS\n",
       "0  33.9   95  51.9  0.902\n",
       "1   0.0    0   0.0  0.000\n",
       "2  22.1   30  34.9  0.686\n",
       "3  25.7  101  32.5  0.673\n",
       "4  15.8   26  25.7  0.489"
      ]
     },
     "execution_count": 15,
     "metadata": {},
     "output_type": "execute_result"
    }
   ],
   "source": [
    "opsDF.head()"
   ]
  },
  {
   "cell_type": "code",
   "execution_count": 16,
   "id": "9e4e0554-5f7b-41d9-a81f-7f68932d3544",
   "metadata": {
    "tags": []
   },
   "outputs": [],
   "source": [
    "#수치형 특성 데이터 스케일링 \n",
    "st=StandardScaler()\n",
    "st.fit(opsDF[opsDF.columns[:-1]])\n",
    "st_data= st.transform(opsDF[opsDF.columns[:-1]])"
   ]
  },
  {
   "cell_type": "code",
   "execution_count": 17,
   "id": "f317e38c-0a79-4b0a-8ba2-667f21b3a025",
   "metadata": {
    "tags": []
   },
   "outputs": [
    {
     "data": {
      "text/html": [
       "<div>\n",
       "<style scoped>\n",
       "    .dataframe tbody tr th:only-of-type {\n",
       "        vertical-align: middle;\n",
       "    }\n",
       "\n",
       "    .dataframe tbody tr th {\n",
       "        vertical-align: top;\n",
       "    }\n",
       "\n",
       "    .dataframe thead th {\n",
       "        text-align: right;\n",
       "    }\n",
       "</style>\n",
       "<table border=\"1\" class=\"dataframe\">\n",
       "  <thead>\n",
       "    <tr style=\"text-align: right;\">\n",
       "      <th></th>\n",
       "      <th>0</th>\n",
       "      <th>1</th>\n",
       "      <th>2</th>\n",
       "    </tr>\n",
       "  </thead>\n",
       "  <tbody>\n",
       "    <tr>\n",
       "      <th>0</th>\n",
       "      <td>1.030693</td>\n",
       "      <td>0.118555</td>\n",
       "      <td>1.072717</td>\n",
       "    </tr>\n",
       "    <tr>\n",
       "      <th>1</th>\n",
       "      <td>-2.413733</td>\n",
       "      <td>-1.028555</td>\n",
       "      <td>-2.105477</td>\n",
       "    </tr>\n",
       "    <tr>\n",
       "      <th>2</th>\n",
       "      <td>-0.168252</td>\n",
       "      <td>-0.666309</td>\n",
       "      <td>0.031690</td>\n",
       "    </tr>\n",
       "    <tr>\n",
       "      <th>3</th>\n",
       "      <td>0.197528</td>\n",
       "      <td>0.191004</td>\n",
       "      <td>-0.115278</td>\n",
       "    </tr>\n",
       "    <tr>\n",
       "      <th>4</th>\n",
       "      <td>-0.808366</td>\n",
       "      <td>-0.714609</td>\n",
       "      <td>-0.531689</td>\n",
       "    </tr>\n",
       "    <tr>\n",
       "      <th>...</th>\n",
       "      <td>...</td>\n",
       "      <td>...</td>\n",
       "      <td>...</td>\n",
       "    </tr>\n",
       "    <tr>\n",
       "      <th>2423</th>\n",
       "      <td>-2.413733</td>\n",
       "      <td>-1.028555</td>\n",
       "      <td>-2.105477</td>\n",
       "    </tr>\n",
       "    <tr>\n",
       "      <th>2424</th>\n",
       "      <td>-2.413733</td>\n",
       "      <td>-1.028555</td>\n",
       "      <td>-2.105477</td>\n",
       "    </tr>\n",
       "    <tr>\n",
       "      <th>2425</th>\n",
       "      <td>-2.413733</td>\n",
       "      <td>-1.028555</td>\n",
       "      <td>-2.105477</td>\n",
       "    </tr>\n",
       "    <tr>\n",
       "      <th>2426</th>\n",
       "      <td>0.542987</td>\n",
       "      <td>-0.461037</td>\n",
       "      <td>0.356246</td>\n",
       "    </tr>\n",
       "    <tr>\n",
       "      <th>2427</th>\n",
       "      <td>-0.716921</td>\n",
       "      <td>-0.931956</td>\n",
       "      <td>-0.066289</td>\n",
       "    </tr>\n",
       "  </tbody>\n",
       "</table>\n",
       "<p>2428 rows × 3 columns</p>\n",
       "</div>"
      ],
      "text/plain": [
       "             0         1         2\n",
       "0     1.030693  0.118555  1.072717\n",
       "1    -2.413733 -1.028555 -2.105477\n",
       "2    -0.168252 -0.666309  0.031690\n",
       "3     0.197528  0.191004 -0.115278\n",
       "4    -0.808366 -0.714609 -0.531689\n",
       "...        ...       ...       ...\n",
       "2423 -2.413733 -1.028555 -2.105477\n",
       "2424 -2.413733 -1.028555 -2.105477\n",
       "2425 -2.413733 -1.028555 -2.105477\n",
       "2426  0.542987 -0.461037  0.356246\n",
       "2427 -0.716921 -0.931956 -0.066289\n",
       "\n",
       "[2428 rows x 3 columns]"
      ]
     },
     "execution_count": 17,
     "metadata": {},
     "output_type": "execute_result"
    }
   ],
   "source": [
    "data=pd.DataFrame(st_data)\n",
    "target = opsDF[opsDF.columns[-1]]\n",
    "data"
   ]
  },
  {
   "cell_type": "code",
   "execution_count": 18,
   "id": "d6ab0ba9-3970-49aa-8e9f-aaebeea5a2eb",
   "metadata": {
    "tags": []
   },
   "outputs": [
    {
     "data": {
      "text/html": [
       "<div>\n",
       "<style scoped>\n",
       "    .dataframe tbody tr th:only-of-type {\n",
       "        vertical-align: middle;\n",
       "    }\n",
       "\n",
       "    .dataframe tbody tr th {\n",
       "        vertical-align: top;\n",
       "    }\n",
       "\n",
       "    .dataframe thead th {\n",
       "        text-align: right;\n",
       "    }\n",
       "</style>\n",
       "<table border=\"1\" class=\"dataframe\">\n",
       "  <thead>\n",
       "    <tr style=\"text-align: right;\">\n",
       "      <th></th>\n",
       "      <th>타율</th>\n",
       "      <th>장타율</th>\n",
       "      <th>루타</th>\n",
       "    </tr>\n",
       "  </thead>\n",
       "  <tbody>\n",
       "    <tr>\n",
       "      <th>0</th>\n",
       "      <td>1.030693</td>\n",
       "      <td>0.118555</td>\n",
       "      <td>1.072717</td>\n",
       "    </tr>\n",
       "    <tr>\n",
       "      <th>1</th>\n",
       "      <td>-2.413733</td>\n",
       "      <td>-1.028555</td>\n",
       "      <td>-2.105477</td>\n",
       "    </tr>\n",
       "    <tr>\n",
       "      <th>2</th>\n",
       "      <td>-0.168252</td>\n",
       "      <td>-0.666309</td>\n",
       "      <td>0.031690</td>\n",
       "    </tr>\n",
       "    <tr>\n",
       "      <th>3</th>\n",
       "      <td>0.197528</td>\n",
       "      <td>0.191004</td>\n",
       "      <td>-0.115278</td>\n",
       "    </tr>\n",
       "    <tr>\n",
       "      <th>4</th>\n",
       "      <td>-0.808366</td>\n",
       "      <td>-0.714609</td>\n",
       "      <td>-0.531689</td>\n",
       "    </tr>\n",
       "    <tr>\n",
       "      <th>...</th>\n",
       "      <td>...</td>\n",
       "      <td>...</td>\n",
       "      <td>...</td>\n",
       "    </tr>\n",
       "    <tr>\n",
       "      <th>2423</th>\n",
       "      <td>-2.413733</td>\n",
       "      <td>-1.028555</td>\n",
       "      <td>-2.105477</td>\n",
       "    </tr>\n",
       "    <tr>\n",
       "      <th>2424</th>\n",
       "      <td>-2.413733</td>\n",
       "      <td>-1.028555</td>\n",
       "      <td>-2.105477</td>\n",
       "    </tr>\n",
       "    <tr>\n",
       "      <th>2425</th>\n",
       "      <td>-2.413733</td>\n",
       "      <td>-1.028555</td>\n",
       "      <td>-2.105477</td>\n",
       "    </tr>\n",
       "    <tr>\n",
       "      <th>2426</th>\n",
       "      <td>0.542987</td>\n",
       "      <td>-0.461037</td>\n",
       "      <td>0.356246</td>\n",
       "    </tr>\n",
       "    <tr>\n",
       "      <th>2427</th>\n",
       "      <td>-0.716921</td>\n",
       "      <td>-0.931956</td>\n",
       "      <td>-0.066289</td>\n",
       "    </tr>\n",
       "  </tbody>\n",
       "</table>\n",
       "<p>2428 rows × 3 columns</p>\n",
       "</div>"
      ],
      "text/plain": [
       "            타율       장타율        루타\n",
       "0     1.030693  0.118555  1.072717\n",
       "1    -2.413733 -1.028555 -2.105477\n",
       "2    -0.168252 -0.666309  0.031690\n",
       "3     0.197528  0.191004 -0.115278\n",
       "4    -0.808366 -0.714609 -0.531689\n",
       "...        ...       ...       ...\n",
       "2423 -2.413733 -1.028555 -2.105477\n",
       "2424 -2.413733 -1.028555 -2.105477\n",
       "2425 -2.413733 -1.028555 -2.105477\n",
       "2426  0.542987 -0.461037  0.356246\n",
       "2427 -0.716921 -0.931956 -0.066289\n",
       "\n",
       "[2428 rows x 3 columns]"
      ]
     },
     "execution_count": 18,
     "metadata": {},
     "output_type": "execute_result"
    }
   ],
   "source": [
    "data.columns = ['타율', '장타율', '루타']\n",
    "data"
   ]
  },
  {
   "cell_type": "code",
   "execution_count": 19,
   "id": "10d01bb3-f91c-4be9-ac52-d8a63762d6f8",
   "metadata": {
    "tags": []
   },
   "outputs": [],
   "source": [
    "# from sklearn.utils import *\n",
    "# import warnings\n",
    "\n",
    "# warnings.filterwarnings('ignore')\n",
    "\n",
    "# rets = all_estimators(type_filter='regressor')\n",
    "\n",
    "# result=[]\n",
    "# for name, estimator_ in rets:\n",
    "#     try:\n",
    "#         model=estimator_()\n",
    "#         model.fit(x_t, y_t)\n",
    "#         # pred_y = model.predict(x_test)\n",
    "#         sc = model.score(x_t,y_t)\n",
    "#         # rmse = metrics.r2_score(y_test,pred_y)\n",
    "#         result.append((name, round(sc, 2)))\n",
    "#     except Exception:\n",
    "#         pass\n",
    "\n",
    "# sorted(result, key=lambda x : x[1], reverse=True)"
   ]
  },
  {
   "attachments": {},
   "cell_type": "markdown",
   "id": "e0e7587b-0d50-4601-9c20-48f7bd89a88b",
   "metadata": {},
   "source": [
    "### 앙상블 x => DecisionTreeRegressor"
   ]
  },
  {
   "cell_type": "code",
   "execution_count": 20,
   "id": "747041e1-5307-463b-9e2d-4532562c7b2e",
   "metadata": {},
   "outputs": [],
   "source": [
    "from sklearn.tree import DecisionTreeRegressor\n",
    "from sklearn.model_selection import train_test_split\n",
    "from sklearn.metrics import mean_squared_error"
   ]
  },
  {
   "cell_type": "code",
   "execution_count": 21,
   "id": "3ab81acf-a790-408f-91c9-2d3878115c16",
   "metadata": {},
   "outputs": [],
   "source": [
    "# 학습용 & 테스트용 데이터 분리\n",
    "X_t, X_test, Y_t, Y_test = train_test_split(data,target,test_size=0.2,random_state=123456) "
   ]
  },
  {
   "cell_type": "code",
   "execution_count": 22,
   "id": "5f612899-1e7d-4c05-9e0f-494c4dcd271b",
   "metadata": {
    "tags": []
   },
   "outputs": [
    {
     "data": {
      "text/plain": [
       "DecisionTreeRegressor(random_state=42)"
      ]
     },
     "execution_count": 22,
     "metadata": {},
     "output_type": "execute_result"
    }
   ],
   "source": [
    "# 모델 생성 및 학습\n",
    "model = DecisionTreeRegressor(random_state=42)\n",
    "model.fit(X_t, Y_t)"
   ]
  },
  {
   "cell_type": "code",
   "execution_count": 23,
   "id": "857b3f91-8d28-4851-b2b9-c2d9e9cb9219",
   "metadata": {
    "tags": []
   },
   "outputs": [
    {
     "data": {
      "text/plain": [
       "0.9860774690688957"
      ]
     },
     "execution_count": 23,
     "metadata": {},
     "output_type": "execute_result"
    }
   ],
   "source": [
    "model.score(X_t,Y_t)"
   ]
  },
  {
   "cell_type": "code",
   "execution_count": 24,
   "id": "cc241101-5156-4c17-8073-3becfe3cf7a8",
   "metadata": {},
   "outputs": [],
   "source": [
    "# 예측\n",
    "Y_pre = model.predict(X_test)"
   ]
  },
  {
   "cell_type": "code",
   "execution_count": 25,
   "id": "42e565e4-0ace-4698-ae4b-244a2d24ddf3",
   "metadata": {
    "tags": []
   },
   "outputs": [
    {
     "name": "stdout",
     "output_type": "stream",
     "text": [
      "MSE: 0.012334512508191788\n"
     ]
    }
   ],
   "source": [
    "# mean_squrared_error 확인\n",
    "# mean_squared_error (MSE)는 회귀 모델의 예측값과 실제값의 차이를 제곱하여 평균한 값입니다. MSE가 작을수록 모델의 예측이 더 정확하다는 것을 의미\n",
    "mse = mean_squared_error(Y_test, Y_pre)\n",
    "print(\"MSE:\", mse)"
   ]
  },
  {
   "cell_type": "code",
   "execution_count": 26,
   "id": "6a882c1e-9e36-41d5-b45b-9d4b35d67dfc",
   "metadata": {},
   "outputs": [
    {
     "data": {
      "text/plain": [
       "0.853448014153841"
      ]
     },
     "execution_count": 26,
     "metadata": {},
     "output_type": "execute_result"
    }
   ],
   "source": [
    "accuracy= r2_score(Y_test,Y_pre)\n",
    "accuracy"
   ]
  },
  {
   "cell_type": "code",
   "execution_count": 27,
   "id": "12c15170-1c7b-479f-afa2-ad562e83861d",
   "metadata": {},
   "outputs": [],
   "source": [
    "from sklearn.model_selection import GridSearchCV"
   ]
  },
  {
   "cell_type": "code",
   "execution_count": 28,
   "id": "c36adbbf-ecba-4fce-ad89-67b1e55fa894",
   "metadata": {},
   "outputs": [],
   "source": [
    "param_grid = {\n",
    "    \"max_depth\": [3, 5, 7, 9],\n",
    "    \"min_samples_split\": [2, 5, 10],\n",
    "    \"min_samples_leaf\": [1, 2, 4],\n",
    "}"
   ]
  },
  {
   "cell_type": "code",
   "execution_count": 29,
   "id": "4d13cc90-8c02-438f-b170-c1f216a3cd10",
   "metadata": {
    "tags": []
   },
   "outputs": [
    {
     "data": {
      "text/plain": [
       "GridSearchCV(cv=5, estimator=DecisionTreeRegressor(random_state=42),\n",
       "             param_grid={'max_depth': [3, 5, 7, 9],\n",
       "                         'min_samples_leaf': [1, 2, 4],\n",
       "                         'min_samples_split': [2, 5, 10]},\n",
       "             scoring='neg_mean_squared_error')"
      ]
     },
     "execution_count": 29,
     "metadata": {},
     "output_type": "execute_result"
    }
   ],
   "source": [
    "# GridSearchCV 수행 : 교차검증 + 최적의 하이퍼 파라미터 튜닝\n",
    "grid_search = GridSearchCV(\n",
    "    model,\n",
    "    param_grid,\n",
    "    cv=5,  # 5-fold 교차 검증 사용\n",
    "    scoring=\"neg_mean_squared_error\",  # 평가 지표로 MSE 사용\n",
    ")\n",
    "grid_search.fit(X_t, Y_t)"
   ]
  },
  {
   "cell_type": "code",
   "execution_count": 30,
   "id": "a9c2c1dd-79ee-48a3-b48c-579c7ca0512a",
   "metadata": {
    "tags": []
   },
   "outputs": [
    {
     "name": "stdout",
     "output_type": "stream",
     "text": [
      "Best Parameters: {'max_depth': 9, 'min_samples_leaf': 1, 'min_samples_split': 5}\n",
      "Best MSE: 0.0022252290099692646\n"
     ]
    }
   ],
   "source": [
    "# 최적의 하이퍼파라미터와 MSE 출력\n",
    "# mean_squared_error (MSE)는 회귀 모델의 예측값과 실제값의 차이를 제곱하여 평균한 값입니다. MSE가 작을수록 모델의 예측이 더 정확하다는 것을 의미\n",
    "print(\"Best Parameters:\", grid_search.best_params_)\n",
    "print(\"Best MSE:\", -grid_search.best_score_)"
   ]
  },
  {
   "cell_type": "code",
   "execution_count": 31,
   "id": "42937e20-0aab-4402-af76-c07c371eec41",
   "metadata": {},
   "outputs": [],
   "source": [
    "opsModel=grid_search.best_estimator_"
   ]
  },
  {
   "cell_type": "code",
   "execution_count": 32,
   "id": "e3ece4dd-984e-4792-8727-2d2d3d60a333",
   "metadata": {
    "tags": []
   },
   "outputs": [
    {
     "data": {
      "text/plain": [
       "DecisionTreeRegressor(max_depth=9, min_samples_split=5, random_state=42)"
      ]
     },
     "execution_count": 32,
     "metadata": {},
     "output_type": "execute_result"
    }
   ],
   "source": [
    "opsModel.fit(X_t, Y_t)"
   ]
  },
  {
   "cell_type": "code",
   "execution_count": 33,
   "id": "93765b3e-2feb-4386-a6d3-adf895816a0b",
   "metadata": {},
   "outputs": [],
   "source": [
    "Y_pre = opsModel.predict(X_test)"
   ]
  },
  {
   "cell_type": "code",
   "execution_count": 34,
   "id": "23147954-380b-49f3-ab75-2246ccfaaa41",
   "metadata": {
    "tags": []
   },
   "outputs": [
    {
     "data": {
      "text/plain": [
       "0.9793678752097776"
      ]
     },
     "execution_count": 34,
     "metadata": {},
     "output_type": "execute_result"
    }
   ],
   "source": [
    "opsModel.score(X_t,Y_t)"
   ]
  },
  {
   "cell_type": "code",
   "execution_count": 35,
   "id": "9dedf403-02d9-4996-a7f6-f757ba3088fb",
   "metadata": {},
   "outputs": [
    {
     "data": {
      "text/plain": [
       "0.8577883239715821"
      ]
     },
     "execution_count": 35,
     "metadata": {},
     "output_type": "execute_result"
    }
   ],
   "source": [
    "accuracy= r2_score(Y_test,Y_pre)\n",
    "accuracy"
   ]
  },
  {
   "cell_type": "code",
   "execution_count": 36,
   "id": "502b34c2-0b31-4f06-95a1-3b0000cd505a",
   "metadata": {},
   "outputs": [
    {
     "data": {
      "text/plain": [
       "['opsModel1.pkl']"
      ]
     },
     "execution_count": 36,
     "metadata": {},
     "output_type": "execute_result"
    }
   ],
   "source": [
    "from joblib import dump\n",
    "# 모델 저장\n",
    "dump(opsModel,'opsModel1.pkl')"
   ]
  },
  {
   "cell_type": "code",
   "execution_count": 37,
   "id": "adde5841-d178-4ff5-81b8-672685077218",
   "metadata": {
    "tags": []
   },
   "outputs": [
    {
     "name": "stderr",
     "output_type": "stream",
     "text": [
      "C:\\Users\\kha\\anaconda3\\lib\\site-packages\\sklearn\\base.py:450: UserWarning: X does not have valid feature names, but StandardScaler was fitted with feature names\n",
      "  warnings.warn(\n",
      "C:\\Users\\kha\\anaconda3\\lib\\site-packages\\sklearn\\base.py:450: UserWarning: X does not have valid feature names, but DecisionTreeRegressor was fitted with feature names\n",
      "  warnings.warn(\n"
     ]
    },
    {
     "data": {
      "text/plain": [
       "array([0.66195265])"
      ]
     },
     "execution_count": 37,
     "metadata": {},
     "output_type": "execute_result"
    }
   ],
   "source": [
    "new_data = st.transform(np.array([[22.1,30,34.9]]))\n",
    "\n",
    "# 예측값\n",
    "opsModel.predict(new_data)"
   ]
  },
  {
   "attachments": {},
   "cell_type": "markdown",
   "id": "811b520c-9b7f-4766-83ef-b334446cfcb4",
   "metadata": {},
   "source": [
    "### 앙상블 => BaggingRegressor"
   ]
  },
  {
   "cell_type": "code",
   "execution_count": 38,
   "id": "45a5cf3a-6b24-42ed-bb81-74eee344db8d",
   "metadata": {},
   "outputs": [],
   "source": [
    "from sklearn.ensemble import BaggingRegressor"
   ]
  },
  {
   "cell_type": "code",
   "execution_count": 39,
   "id": "fdc61317-2344-4fde-a79e-80bf86214b8b",
   "metadata": {},
   "outputs": [],
   "source": [
    "x_t, x_test, y_t, y_test = train_test_split(data,target,test_size=0.2,random_state=123456) # 학습용으로 빼놓은 데이터"
   ]
  },
  {
   "cell_type": "code",
   "execution_count": 40,
   "id": "f9a7b556-eeaf-4a58-b534-79f6e7fa80bc",
   "metadata": {},
   "outputs": [],
   "source": [
    "base_model = DecisionTreeRegressor(max_depth=5)\n",
    "bagging_model = BaggingRegressor(base_estimator=base_model, n_estimators=10, random_state=42)"
   ]
  },
  {
   "cell_type": "code",
   "execution_count": 41,
   "id": "0063aa71-db3a-4de7-865d-93e6e595db15",
   "metadata": {
    "tags": []
   },
   "outputs": [
    {
     "data": {
      "text/plain": [
       "BaggingRegressor(base_estimator=DecisionTreeRegressor(max_depth=5),\n",
       "                 random_state=42)"
      ]
     },
     "execution_count": 41,
     "metadata": {},
     "output_type": "execute_result"
    }
   ],
   "source": [
    "bagging_model.fit(x_t, y_t)"
   ]
  },
  {
   "cell_type": "code",
   "execution_count": 42,
   "id": "c74c5901-08c1-49f7-81db-2d5da20cc84c",
   "metadata": {
    "tags": []
   },
   "outputs": [
    {
     "data": {
      "text/plain": [
       "0.9703928235985718"
      ]
     },
     "execution_count": 42,
     "metadata": {},
     "output_type": "execute_result"
    }
   ],
   "source": [
    "bagging_model.score(x_t,y_t)"
   ]
  },
  {
   "cell_type": "code",
   "execution_count": 43,
   "id": "4b186fb5-3835-460c-ad89-a3ed523a37f8",
   "metadata": {},
   "outputs": [],
   "source": [
    "y_pre = bagging_model.predict(x_test)"
   ]
  },
  {
   "cell_type": "code",
   "execution_count": 44,
   "id": "fc69e864-2d0d-4461-aeb0-6b5b9c1da6f7",
   "metadata": {},
   "outputs": [
    {
     "data": {
      "text/plain": [
       "0.843139132463959"
      ]
     },
     "execution_count": 44,
     "metadata": {},
     "output_type": "execute_result"
    }
   ],
   "source": [
    "accuracy= r2_score(y_test,y_pre)\n",
    "accuracy"
   ]
  },
  {
   "cell_type": "code",
   "execution_count": 45,
   "id": "3dd454e5-ffa8-4dac-a95b-9773e2118c74",
   "metadata": {
    "tags": []
   },
   "outputs": [
    {
     "data": {
      "text/plain": [
       "GridSearchCV(cv=5,\n",
       "             estimator=BaggingRegressor(base_estimator=DecisionTreeRegressor()),\n",
       "             n_jobs=-1,\n",
       "             param_grid={'base_estimator__max_depth': [3, 5, 7],\n",
       "                         'n_estimators': [10, 50, 100]})"
      ]
     },
     "execution_count": 45,
     "metadata": {},
     "output_type": "execute_result"
    }
   ],
   "source": [
    "# Define BaggingRegressor and hyperparameters\n",
    "base_model = DecisionTreeRegressor()\n",
    "bagging_model = BaggingRegressor(base_estimator=base_model)\n",
    "\n",
    "param_grid = {\n",
    "    'base_estimator__max_depth': [3, 5, 7],\n",
    "    'n_estimators': [10, 50, 100]\n",
    "}\n",
    "\n",
    "# Create GridSearchCV object\n",
    "grid_search = GridSearchCV(estimator=bagging_model, param_grid=param_grid, cv=5, n_jobs=-1)\n",
    "\n",
    "# Fit GridSearchCV object to training data\n",
    "grid_search.fit(x_t, y_t)"
   ]
  },
  {
   "cell_type": "code",
   "execution_count": 46,
   "id": "6a0dee2d-c331-4dfa-9662-a4f069cf7d09",
   "metadata": {
    "tags": []
   },
   "outputs": [
    {
     "name": "stdout",
     "output_type": "stream",
     "text": [
      "Best Parameters: {'base_estimator__max_depth': 7, 'n_estimators': 50}\n",
      "Best MSE: -0.9696886996535532\n"
     ]
    }
   ],
   "source": [
    "# 최적의 하이퍼파라미터와 MSE 출력\n",
    "# mean_squared_error (MSE)는 회귀 모델의 예측값과 실제값의 차이를 제곱하여 평균한 값입니다. MSE가 작을수록 모델의 예측이 더 정확하다는 것을 의미\n",
    "print(\"Best Parameters:\", grid_search.best_params_)\n",
    "print(\"Best MSE:\", -grid_search.best_score_)"
   ]
  },
  {
   "cell_type": "code",
   "execution_count": 47,
   "id": "36b131bb-4647-41b2-a1d0-43ba7c8d3824",
   "metadata": {},
   "outputs": [],
   "source": [
    "opsModel2=grid_search.best_estimator_"
   ]
  },
  {
   "cell_type": "code",
   "execution_count": 48,
   "id": "e8cbe081-e1c3-4dec-acd2-955e7c5ced09",
   "metadata": {
    "tags": []
   },
   "outputs": [
    {
     "data": {
      "text/plain": [
       "BaggingRegressor(base_estimator=DecisionTreeRegressor(max_depth=7),\n",
       "                 n_estimators=50)"
      ]
     },
     "execution_count": 48,
     "metadata": {},
     "output_type": "execute_result"
    }
   ],
   "source": [
    "opsModel2.fit(x_t, y_t)"
   ]
  },
  {
   "cell_type": "code",
   "execution_count": 49,
   "id": "a48f10dc-0b33-41c5-aa10-27f6c85a4f04",
   "metadata": {},
   "outputs": [],
   "source": [
    "y_pre = opsModel2.predict(x_test)"
   ]
  },
  {
   "cell_type": "code",
   "execution_count": 50,
   "id": "58e8e0da-15d2-4451-aff4-35388c891e33",
   "metadata": {},
   "outputs": [
    {
     "data": {
      "text/plain": [
       "0.9776175006514296"
      ]
     },
     "execution_count": 50,
     "metadata": {},
     "output_type": "execute_result"
    }
   ],
   "source": [
    "opsModel2.score(x_t,y_t)"
   ]
  },
  {
   "cell_type": "code",
   "execution_count": 51,
   "id": "34959b33-fc42-4e99-b0ab-6bbd5132d9ec",
   "metadata": {},
   "outputs": [
    {
     "data": {
      "text/plain": [
       "0.8641790962020137"
      ]
     },
     "execution_count": 51,
     "metadata": {},
     "output_type": "execute_result"
    }
   ],
   "source": [
    "accuracy= r2_score(y_test,y_pre)\n",
    "accuracy"
   ]
  },
  {
   "cell_type": "code",
   "execution_count": 52,
   "id": "2cbfd417-e669-4f8c-a6b8-60deda11e117",
   "metadata": {
    "tags": []
   },
   "outputs": [
    {
     "name": "stderr",
     "output_type": "stream",
     "text": [
      "C:\\Users\\kha\\anaconda3\\lib\\site-packages\\sklearn\\base.py:450: UserWarning: X does not have valid feature names, but StandardScaler was fitted with feature names\n",
      "  warnings.warn(\n",
      "C:\\Users\\kha\\anaconda3\\lib\\site-packages\\sklearn\\base.py:450: UserWarning: X does not have valid feature names, but BaggingRegressor was fitted with feature names\n",
      "  warnings.warn(\n"
     ]
    },
    {
     "data": {
      "text/plain": [
       "array([0.65701623])"
      ]
     },
     "execution_count": 52,
     "metadata": {},
     "output_type": "execute_result"
    }
   ],
   "source": [
    "new_data = st.transform(np.array([[25.7,101,32.5]]))\n",
    "\n",
    "# 예측값\n",
    "opsModel2.predict(new_data)"
   ]
  },
  {
   "cell_type": "code",
   "execution_count": 53,
   "id": "8e38523b-620b-42b3-8968-29b8101c4f55",
   "metadata": {},
   "outputs": [
    {
     "data": {
      "text/plain": [
       "['opsModel2.pkl']"
      ]
     },
     "execution_count": 53,
     "metadata": {},
     "output_type": "execute_result"
    }
   ],
   "source": [
    "# 모델 저장\n",
    "dump(opsModel2,'opsModel2.pkl')"
   ]
  },
  {
   "cell_type": "code",
   "execution_count": null,
   "id": "202c63a6-268a-427f-8af0-1b2c47412a1f",
   "metadata": {},
   "outputs": [],
   "source": []
  },
  {
   "cell_type": "code",
   "execution_count": null,
   "id": "3b1d237f-f946-489a-be4a-daec5746762c",
   "metadata": {},
   "outputs": [],
   "source": []
  },
  {
   "cell_type": "code",
   "execution_count": null,
   "id": "517dab1b-bcc4-4a5e-9ea9-a6f1ae264a03",
   "metadata": {},
   "outputs": [],
   "source": []
  }
 ],
 "metadata": {
  "kernelspec": {
   "display_name": "Python 3 (ipykernel)",
   "language": "python",
   "name": "python3"
  },
  "language_info": {
   "codemirror_mode": {
    "name": "ipython",
    "version": 3
   },
   "file_extension": ".py",
   "mimetype": "text/x-python",
   "name": "python",
   "nbconvert_exporter": "python",
   "pygments_lexer": "ipython3",
   "version": "3.9.15"
  }
 },
 "nbformat": 4,
 "nbformat_minor": 5
}
