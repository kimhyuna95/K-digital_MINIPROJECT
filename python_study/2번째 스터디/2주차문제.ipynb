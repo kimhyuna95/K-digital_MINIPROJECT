{
 "cells": [
  {
   "cell_type": "code",
   "execution_count": 14,
   "metadata": {},
   "outputs": [
    {
     "name": "stdout",
     "output_type": "stream",
     "text": [
      "1\n",
      "3\n",
      "7\n",
      "15\n",
      "31\n",
      "63\n",
      "127\n",
      "255\n",
      "511\n"
     ]
    }
   ],
   "source": [
    "# 2) 메르센수 구하기 - for\n",
    "\n",
    "for i in range(1,1000):\n",
    "    if 2**i -1<=1000:\n",
    "        print(2**i-1)"
   ]
  },
  {
   "cell_type": "code",
   "execution_count": 15,
   "metadata": {},
   "outputs": [
    {
     "name": "stdout",
     "output_type": "stream",
     "text": [
      "1\n",
      "3\n",
      "7\n",
      "15\n",
      "31\n",
      "63\n",
      "127\n",
      "255\n",
      "511\n"
     ]
    }
   ],
   "source": [
    "# 2) 메르센수 구하기 - while\n",
    "i=1\n",
    "while 2**i-1 <=1000:\n",
    "    print(2**i-1)\n",
    "    i+=1"
   ]
  },
  {
   "cell_type": "code",
   "execution_count": 9,
   "metadata": {},
   "outputs": [
    {
     "name": "stdout",
     "output_type": "stream",
     "text": [
      "0\n",
      "3\n",
      "7\n",
      "7\n",
      "31\n",
      "9\n"
     ]
    }
   ],
   "source": [
    "# 3) 양의 정수 x, y, z를 입력 받아 가장 큰 홀수를 return하는 함수 largest_odd()를 작성하\n",
    "# 시오. 만약 홀수가 없다면 0을 return하도록 합니다. 함수 정의 후 다음에 대해 테스트 하여 \n",
    "# 옳게 작동하는지 확인하시오.  \n",
    "\n",
    "def largest_odd(x,y,z):\n",
    "    nums=[x,y,z]\n",
    "    new_nums=[]\n",
    "    for i in nums:\n",
    "        if i%2==1:\n",
    "            new_nums.append(i)   \n",
    "    if len(new_nums) >=1:\n",
    "        print(max(new_nums)) \n",
    "    else:          \n",
    "        print('0')\n",
    "        \n",
    "largest_odd(2,4,6)\n",
    "largest_odd(1,3,22)\n",
    "largest_odd(1,7,3)\n",
    "largest_odd(22,7,3)\n",
    "largest_odd(22,32,31)\n",
    "largest_odd(9,2,12)\n"
   ]
  },
  {
   "cell_type": "code",
   "execution_count": 10,
   "metadata": {},
   "outputs": [
    {
     "name": "stdout",
     "output_type": "stream",
     "text": [
      "0\n",
      "3\n",
      "7\n",
      "7\n",
      "31\n",
      "9\n"
     ]
    }
   ],
   "source": [
    "def largest_odd(x,y,z):\n",
    "    nums=[x,y,z]\n",
    "    new_nums=[]\n",
    "    i=0\n",
    "    while i < 3:\n",
    "        if nums[i] %2 ==1:\n",
    "            new_nums.append(nums[i])\n",
    "        i+=1\n",
    "        \n",
    "    if len(new_nums)>=1:\n",
    "        print(max(new_nums))\n",
    "    else:\n",
    "        print('0')\n",
    "       \n",
    "largest_odd(2,4,6)\n",
    "largest_odd(1,3,22)\n",
    "largest_odd(1,7,3)\n",
    "largest_odd(22,7,3)\n",
    "largest_odd(22,32,31)\n",
    "largest_odd(9,2,12)"
   ]
  },
  {
   "cell_type": "code",
   "execution_count": 12,
   "metadata": {},
   "outputs": [
    {
     "name": "stdout",
     "output_type": "stream",
     "text": [
      "1\n",
      "3\n",
      "7\n",
      "15\n",
      "31\n",
      "63\n",
      "127\n",
      "255\n",
      "511\n"
     ]
    }
   ],
   "source": [
    "for i in range(1,1001):\n",
    "    a=2**i-1\n",
    "    if a<=1000:\n",
    "        print(a)"
   ]
  },
  {
   "cell_type": "code",
   "execution_count": null,
   "metadata": {},
   "outputs": [],
   "source": [
    "# 조건부 표현식\n",
    "def largest_odd2(x,y,z):\n",
    "    x= [i for i in [x,y,z] if i %2 !=0]\n",
    "    return max(x) if len(x) != 0 else 0"
   ]
  }
 ],
 "metadata": {
  "kernelspec": {
   "display_name": "Python 3",
   "language": "python",
   "name": "python3"
  },
  "language_info": {
   "codemirror_mode": {
    "name": "ipython",
    "version": 3
   },
   "file_extension": ".py",
   "mimetype": "text/x-python",
   "name": "python",
   "nbconvert_exporter": "python",
   "pygments_lexer": "ipython3",
   "version": "3.11.1"
  },
  "orig_nbformat": 4,
  "vscode": {
   "interpreter": {
    "hash": "d417a21d97a2e6b8832d21dc44f5cbe4be6e18325f874a8bb8484565b928cd54"
   }
  }
 },
 "nbformat": 4,
 "nbformat_minor": 2
}
