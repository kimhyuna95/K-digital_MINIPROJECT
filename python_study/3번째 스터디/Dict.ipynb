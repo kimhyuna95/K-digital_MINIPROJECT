{
 "cells": [
  {
   "cell_type": "code",
   "execution_count": 1,
   "metadata": {},
   "outputs": [
    {
     "data": {
      "text/plain": [
       "{20, 30, 60, 80}"
      ]
     },
     "execution_count": 1,
     "metadata": {},
     "output_type": "execute_result"
    }
   ],
   "source": [
    "# 1) 정수리스트를 중복을 제거하여 정렬\n",
    "\n",
    "nums = [80,20,20,30,60,30]\n",
    "set(nums)"
   ]
  },
  {
   "cell_type": "code",
   "execution_count": 6,
   "metadata": {},
   "outputs": [
    {
     "data": {
      "text/plain": [
       "{1: 1, 2: 4, 3: 9, 4: 16, 5: 25, 6: 36, 7: 49, 8: 64, 9: 81}"
      ]
     },
     "execution_count": 6,
     "metadata": {},
     "output_type": "execute_result"
    }
   ],
   "source": [
    "# 2) 1 ~ 10(포함) 사이의 숫자를 포함하는 (x,x*x)형식의 딕셔너리 생성\n",
    "\n",
    "nums = {}\n",
    "for i in range(1,10):\n",
    "    nums[i]=i*i\n",
    "    i+=1\n",
    "\n",
    "nums"
   ]
  },
  {
   "cell_type": "code",
   "execution_count": 21,
   "metadata": {},
   "outputs": [
    {
     "name": "stdout",
     "output_type": "stream",
     "text": [
      "Apple -> 1\n",
      "Banana -> 2\n",
      "Grape -> 3\n",
      "Apple -> 1\n",
      "Banana -> 2\n",
      "Grape -> 3\n"
     ]
    }
   ],
   "source": [
    "# 3) 모든 항목의 value 값을 출력\n",
    "\n",
    "d = {'Apple':1,'Banana':2,'Grape':3}\n",
    "for k, v in d.items():\n",
    "    print(k,'->',v)\n",
    "    \n",
    "for i in d.items():\n",
    "    k=i[0]\n",
    "    v=i[1]\n",
    "    print(k,'->',v)"
   ]
  },
  {
   "cell_type": "code",
   "execution_count": 24,
   "metadata": {},
   "outputs": [
    {
     "name": "stdout",
     "output_type": "stream",
     "text": [
      "키 5 는 딕셔너리에 있습니다\n"
     ]
    }
   ],
   "source": [
    "# 4) 딕셔너리에 주어진 키가 딕셔너리에 있는지 확인하기\n",
    "d={1:10, 2:20, 3:30, 4:40, 5:50, 6:60}\n",
    "\n",
    "i = int(input('숫자 키를 입력하시오 : '))\n",
    "\n",
    "if i in d.keys():\n",
    "    print(f'키 {i} 는 딕셔너리에 있습니다')\n",
    "else:\n",
    "    print(f' 키 {i}는 존재하지 않는 키입니다')"
   ]
  },
  {
   "cell_type": "code",
   "execution_count": 28,
   "metadata": {},
   "outputs": [
    {
     "name": "stdout",
     "output_type": "stream",
     "text": [
      "총합계 : 2420\n"
     ]
    }
   ],
   "source": [
    "# 5) 딕셔너리의 모든 합 구하기\n",
    "myDict = {'옷':100, '컴퓨터':2000, '모니터':320}\n",
    "\n",
    "total = sum(myDict.values())\n",
    "print(f'총합계 : {total}')"
   ]
  },
  {
   "cell_type": "code",
   "execution_count": 32,
   "metadata": {},
   "outputs": [
    {
     "data": {
      "text/plain": [
       "{'red': '#FF000', 'green': '#008000', 'blue': '#000FF'}"
      ]
     },
     "execution_count": 32,
     "metadata": {},
     "output_type": "execute_result"
    }
   ],
   "source": [
    "# 6) 리스트 두개를 합쳐서 하나의 딕셔너리 만들기\n",
    "colors = ['red', 'green','blue']\n",
    "values = ['#FF000','#008000','#000FF']\n",
    "total={}\n",
    "\n",
    "for i in range(len(colors)):\n",
    "    total[colors[i]] = values[i]\n",
    "    # i가 0,1,2 순으로 돌아야 하니까 for문을 인덱스 형식으로 돌리기\n",
    "\n",
    "total"
   ]
  },
  {
   "cell_type": "code",
   "execution_count": 35,
   "metadata": {},
   "outputs": [
    {
     "data": {
      "text/plain": [
       "{'red': '#FF000', 'green': '#008000', 'blue': '#000FF'}"
      ]
     },
     "execution_count": 35,
     "metadata": {},
     "output_type": "execute_result"
    }
   ],
   "source": [
    "# 6 - 2) 책에나와있는 zip\n",
    "colors = ['red', 'green','blue']\n",
    "values = ['#FF000','#008000','#000FF']\n",
    "dict(zip(colors, values))"
   ]
  },
  {
   "cell_type": "code",
   "execution_count": 41,
   "metadata": {},
   "outputs": [
    {
     "data": {
      "text/plain": [
       "{'2020': ['파이썬']}"
      ]
     },
     "execution_count": 41,
     "metadata": {},
     "output_type": "execute_result"
    }
   ],
   "source": [
    "# 7) 날짜를 키로, 일정을 값으로 저장하기 =======> 모르게따앙아아아아아아\n",
    "My_Date = {}\n",
    "\n",
    "Date=input('날짜를 입력하시오 : ')\n",
    "to_do=input('일정을 입력하시오 : ')\n",
    "My_Date[Date]=[to_do]\n",
    "\n",
    "My_Date\n"
   ]
  },
  {
   "cell_type": "code",
   "execution_count": 50,
   "metadata": {},
   "outputs": [
    {
     "data": {
      "text/plain": [
       "{'2020': ['44'], '2021': ['3']}"
      ]
     },
     "execution_count": 50,
     "metadata": {},
     "output_type": "execute_result"
    }
   ],
   "source": [
    "# 7) 날짜를 키로, 일정을 값으로 저장하기 =======> 아이고 짜증난댜\n",
    "\n",
    "My_Date = {}\n",
    "list_to_do=[]\n",
    "while True:\n",
    "    Date=input('날짜를 입력하시오 : ')\n",
    "    list_to_do=[]\n",
    "    to_do=input('일정을 입력하시오 : ')\n",
    "    list_to_do.append(to_do)\n",
    "    My_Date[Date]=list_to_do\n",
    "    number=input('종료하려면 6을 입력하세요.')\n",
    "    if number == '6':\n",
    "        break\n",
    "        \n",
    "        \n",
    "My_Date\n"
   ]
  },
  {
   "cell_type": "code",
   "execution_count": 166,
   "metadata": {},
   "outputs": [
    {
     "name": "stdout",
     "output_type": "stream",
     "text": [
      "달의 번호: 5\n",
      "달의 번호: May\n"
     ]
    }
   ],
   "source": [
    "# 8) 달의 번호를 받아서 달의 이름을 출력하는 프로그램 작성\n",
    "Month = {1:'January', 2:'February', 3:'March', 4:'April', 5:'May',\n",
    "        6:'June', 7:'July', 8:'August', 9:'September', 10:'October',\n",
    "        11:'November', 12:'December'}\n",
    "month =int(input('숫자를 입력하라'))\n",
    "for k, v in Month.items():\n",
    "    if month == k:\n",
    "        print(f'달의 번호: {month}')\n",
    "        print(f'달의 번호: {v}')"
   ]
  },
  {
   "cell_type": "code",
   "execution_count": 114,
   "metadata": {},
   "outputs": [
    {
     "data": {
      "text/plain": [
       "['l', 'o', 'e', 'W', 'H']"
      ]
     },
     "execution_count": 114,
     "metadata": {},
     "output_type": "execute_result"
    }
   ],
   "source": [
    "# 9) 두개의 문자열에서 공통되는 글자를 반환하라\n",
    "first = 'Hello World!'\n",
    "second = 'Hi! Welcome!!'\n",
    "total = set(first) & set(second)\n",
    "total\n",
    "and_ = []\n",
    "for i in total:\n",
    "    \n",
    "    if i.isalpha():\n",
    "        and_.append(i)\n",
    "and_\n",
    "    \n"
   ]
  },
  {
   "cell_type": "code",
   "execution_count": 121,
   "metadata": {},
   "outputs": [
    {
     "data": {
      "text/plain": [
       "{10, 20, 70, 80}"
      ]
     },
     "execution_count": 121,
     "metadata": {},
     "output_type": "execute_result"
    }
   ],
   "source": [
    "# 10) set1, set2 2개의 세트에서 교집합을 제외한 나머지를 출력\n",
    "set1 = {10,20,30,40,50,60}\n",
    "set2 = {30,40,50,60,70,80}\n",
    "and_ = set1 & set2\n",
    "nset1 = set1 - and_\n",
    "nset2 = set2 - and_\n",
    "total = nset1.union(nset2) # 합집합\n",
    "total"
   ]
  },
  {
   "cell_type": "code",
   "execution_count": 131,
   "metadata": {},
   "outputs": [
    {
     "name": "stdout",
     "output_type": "stream",
     "text": [
      "=============================\n",
      "다음은 어떤단어에 대한 설명인가\n",
      "-----------------------------\n",
      "최근에 가장 떠오르는 프로그래밍 언어\n",
      "-----------------------------\n",
      "(1)파이썬 (2)변수 (3)함수 (4)리스트\n",
      "=============================\n",
      "파이썬 \n",
      " 정답\n",
      "=============================\n",
      "다음은 어떤단어에 대한 설명인가\n",
      "-----------------------------\n",
      "데이터를 저장하는 메모리 공간\n",
      "-----------------------------\n",
      "(1)파이썬 (2)변수 (3)함수 (4)리스트\n",
      "=============================\n",
      "변수 \n",
      " 정답\n",
      "=============================\n",
      "다음은 어떤단어에 대한 설명인가\n",
      "-----------------------------\n",
      "작업을 수행하는 문장들의 집합에 이름을 붙인것\n",
      "-----------------------------\n",
      "(1)파이썬 (2)변수 (3)함수 (4)리스트\n",
      "=============================\n",
      "함수 \n",
      " 정답\n",
      "=============================\n",
      "다음은 어떤단어에 대한 설명인가\n",
      "-----------------------------\n",
      "서로 관련이 없는 항목들의 모임\n",
      "-----------------------------\n",
      "(1)파이썬 (2)변수 (3)함수 (4)리스트\n",
      "=============================\n",
      "리스트 \n",
      " 정답\n"
     ]
    }
   ],
   "source": [
    "# 11) 사용자에게 value 값을 제시하고 key를 맞추게 하는 문제\n",
    "problems = {'파이썬' : '최근에 가장 떠오르는 프로그래밍 언어',\n",
    "            '변수' : '데이터를 저장하는 메모리 공간',\n",
    "            '함수' : '작업을 수행하는 문장들의 집합에 이름을 붙인것',\n",
    "            '리스트' : '서로 관련이 없는 항목들의 모임'}\n",
    "\n",
    "for problems_v in problems.keys():\n",
    "    print('=============================')\n",
    "    print('다음은 어떤단어에 대한 설명인가')\n",
    "    print('-----------------------------')\n",
    "    print(problems[problems_v])\n",
    "    print('-----------------------------')\n",
    "    print('(1)파이썬 (2)변수 (3)함수 (4)리스트')\n",
    "    print('=============================')\n",
    "    \n",
    "    select = input('정답을 입력하시오')\n",
    "    \n",
    "    if select == problems_v:\n",
    "        print(f'{select} \\n 정답')\n",
    "    else:\n",
    "        print('땡')     "
   ]
  },
  {
   "cell_type": "code",
   "execution_count": 142,
   "metadata": {},
   "outputs": [
    {
     "name": "stdout",
     "output_type": "stream",
     "text": [
      "i read a **** book\n"
     ]
    }
   ],
   "source": [
    "# 12) 욕설 같은 '금지어'를 저장후 임의의 텍스트를 검열하는 프로그램\n",
    "# 금칙어를 (*)로 바꾸어 텍스트 작성\n",
    "text = input('문자열을 입력하시오')\n",
    "x_word = input('금칙어를 입력하시오')\n",
    "\n",
    "for i in x_word.split(' '):\n",
    "    if i in text:\n",
    "        x_text = text.replace(i,'*'*len(i))\n",
    "\n",
    "print(x_text)\n",
    "\n"
   ]
  },
  {
   "cell_type": "code",
   "execution_count": 151,
   "metadata": {},
   "outputs": [
    {
     "name": "stdout",
     "output_type": "stream",
     "text": [
      "{'LETTERS': 10, 'DIGITS': 3}\n"
     ]
    }
   ],
   "source": [
    "# 13) 문자열을 받아서 글자의 개수와 숫자의 개수를 계산하여 \n",
    "# 딕셔너리로 작성하는 프로그램\n",
    "texts='Hello World123'\n",
    "text_num = {}\n",
    "letters = []\n",
    "digit = []\n",
    "for i in texts:\n",
    "    if i.isalpha():\n",
    "        letters.append(i)\n",
    "        \n",
    "    elif i.isdigit():\n",
    "        digit.append(i)\n",
    "        \n",
    "    text_num['LETTERS']=len(letters)\n",
    "    text_num['DIGITS']=len(digit)\n",
    "print(text_num)"
   ]
  },
  {
   "cell_type": "code",
   "execution_count": 159,
   "metadata": {},
   "outputs": [
    {
     "name": "stdout",
     "output_type": "stream",
     "text": [
      "20200521\n"
     ]
    }
   ],
   "source": [
    "# 14) MM/DD/YYYY => YYYMMDD 형식으로 출력\n",
    "month, day, year = input('05/21/2020').split('/')\n",
    "date = [year, month, day]\n",
    "d = ''.join(date)\n",
    "    \n",
    "print(d)\n"
   ]
  },
  {
   "cell_type": "code",
   "execution_count": 164,
   "metadata": {},
   "outputs": [
    {
     "name": "stdout",
     "output_type": "stream",
     "text": [
      "Hi! I\"m Park, and I\"m from korea\n",
      "Hi! I\"m San, and I\"m from USA\n",
      "Hi! I\"m Sakura, and I\"m from Japan\n"
     ]
    }
   ],
   "source": [
    "# 15) 딕셔너리에서 이름과 국적을 꺼내서 다음과 같이 출력\n",
    "studentList = {'Park' : 'korea', 'San' : 'USA', 'Sakura' : 'Japan'}\n",
    "for k, v in studentList.items():\n",
    "    print(f'Hi! I\"m {k}, and I\"m from {v}')"
   ]
  }
 ],
 "metadata": {
  "kernelspec": {
   "display_name": "Python 3",
   "language": "python",
   "name": "python3"
  },
  "language_info": {
   "codemirror_mode": {
    "name": "ipython",
    "version": 3
   },
   "file_extension": ".py",
   "mimetype": "text/x-python",
   "name": "python",
   "nbconvert_exporter": "python",
   "pygments_lexer": "ipython3",
   "version": "3.11.1"
  },
  "orig_nbformat": 4,
  "vscode": {
   "interpreter": {
    "hash": "d417a21d97a2e6b8832d21dc44f5cbe4be6e18325f874a8bb8484565b928cd54"
   }
  }
 },
 "nbformat": 4,
 "nbformat_minor": 2
}
