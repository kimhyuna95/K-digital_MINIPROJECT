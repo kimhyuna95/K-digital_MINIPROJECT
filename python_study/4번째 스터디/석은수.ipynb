{
 "cells": [
  {
   "cell_type": "code",
   "execution_count": 1,
   "metadata": {},
   "outputs": [
    {
     "name": "stdout",
     "output_type": "stream",
     "text": [
      "8는 60의 약수가 아닙니다\n"
     ]
    }
   ],
   "source": [
    "# 1) 사용자로부터 2개의 정수를 받아서 첫번째 정수가 두번째 정수로 \n",
    "# 나누어 떨어지는 지를 검사하는 프로그램 작성\n",
    "x = 60\n",
    "y = 8\n",
    "if x%y == 0:\n",
    "    print(f'{y}는 {x}의 약수입니다')\n",
    "else:\n",
    "    print(f'{y}는 {x}의 약수가 아닙니다')\n",
    "\n"
   ]
  },
  {
   "cell_type": "code",
   "execution_count": 2,
   "metadata": {},
   "outputs": [
    {
     "name": "stdout",
     "output_type": "stream",
     "text": [
      "긴바지를 추천합니다.\n"
     ]
    }
   ],
   "source": [
    "# 2) 사용자에게 현재 온도를 질문하고 온도가 25도 이상이면 반바지\n",
    "# 25도 미만이면 긴바지를 추천하는 프로그램\n",
    "x = 10\n",
    "\n",
    "if x >=25:\n",
    "    print('반바지를 추천합니다')\n",
    "else:\n",
    "    print('긴바지를 추천합니다.')"
   ]
  },
  {
   "cell_type": "code",
   "execution_count": 28,
   "metadata": {},
   "outputs": [
    {
     "name": "stdout",
     "output_type": "stream",
     "text": [
      "Rectangle\n"
     ]
    }
   ],
   "source": [
    "# 3) 사용자로부터 하나의 문자를 입력받아서 문자가 'R'이나 'r'이면 'Rectangle'\n",
    "# 'T'나 't'면 'Triangle', 'C'이거나 'c'면 \"Circle\"이라고 출력\n",
    "# 그이외는 'Unknown' 이라고 출력한다 \n",
    "x = input()\n",
    "\n",
    "if x == 'C' or x=='c':\n",
    "    print(\"Circle\")\n",
    "elif x == 'T' or x == 't':\n",
    "    print('Triangle')\n",
    "elif x == 'R' or x == 'r':\n",
    "    print('Rectangle')\n",
    "else:\n",
    "    print('Unknown')\n",
    "    "
   ]
  },
  {
   "cell_type": "code",
   "execution_count": 31,
   "metadata": {},
   "outputs": [
    {
     "name": "stdout",
     "output_type": "stream",
     "text": [
      "원의 반지름: 8\n",
      "원의 면적: 200.96\n"
     ]
    }
   ],
   "source": [
    "# 4) 원의 넓이를 계산하는 프로그램에서 사용자가 입력한 원의 반지름을 검증해보자. 사용자가 입력한 값이 음수이면 \n",
    "# \"잘못된 값입니다”를 출력하도록 프로그램을 작성해보자. \n",
    "x = int(input())\n",
    "\n",
    "if x>0:\n",
    "    print(f'원의 반지름: {x}')\n",
    "    print(f'원의 면적: {x*x*3.14}')\n",
    "else :\n",
    "    print('잘못된 값입니다')\n",
    " \n"
   ]
  },
  {
   "cell_type": "code",
   "execution_count": 38,
   "metadata": {},
   "outputs": [
    {
     "name": "stdout",
     "output_type": "stream",
     "text": [
      "0\n"
     ]
    }
   ],
   "source": [
    "# 5) 사용자로부터 개의 정수를 읽어 들인 후에 if-else 문을 사용하여 가장 작은 값을 결정하는 프로그램을 작성하라. \n",
    "x, y, z = input('3개의 정수를 입력하시오 :').split(',')\n",
    "x = int(x)\n",
    "y = int(y)\n",
    "z = int(z)\n",
    "\n",
    "if x<y:\n",
    "    min_num = x\n",
    "else:\n",
    "    min_num = y\n",
    "    if y<z:\n",
    "        min_num= y\n",
    "    else:\n",
    "        min_num = z\n",
    "print(min_num)"
   ]
  },
  {
   "attachments": {},
   "cell_type": "markdown",
   "metadata": {},
   "source": [
    "6) 컴퓨터와 가위. 바위. 보 게임을 하는 프로그램을 작성하라. 컴퓨터는 사용자에게 알리지 않고 가위 . 바위, 보 중에서 \n",
    "임의로 를 선택한다 사용자는 프로그램의 입력 내 메시지에 따라서 , 개 중에서 를 선택하게 된다. 사용 \n",
    "자의 선택이 끝나면 컴퓨터는 누가가 무엇을 선택하였고 누가 이겼는지. 비겼는지를 알려준다. \n"
   ]
  },
  {
   "cell_type": "code",
   "execution_count": 39,
   "metadata": {},
   "outputs": [],
   "source": [
    "import random"
   ]
  },
  {
   "cell_type": "code",
   "execution_count": null,
   "metadata": {},
   "outputs": [],
   "source": [
    "select = int(input('1: 가위, 2:바위, 3:보'))\n",
    "computer = random.randint(1,3)\n",
    "\n",
    "if select == 1:\n",
    "    if computer == 2:\n",
    "        winner = computer\n",
    "    else:\n",
    "        winner = select\n",
    "elif select == 2:\n",
    "    if computer == 1:\n",
    "        winner = select"
   ]
  },
  {
   "cell_type": "code",
   "execution_count": 42,
   "metadata": {},
   "outputs": [
    {
     "name": "stdout",
     "output_type": "stream",
     "text": [
      "너는 못탑니다\n"
     ]
    }
   ],
   "source": [
    "# 7) 놀이 공원에서 롤러코스터에 타려면 키가 140cm 이상이고 나이가 10 살 이상이어야 한다고 가정하자. 사용자에게 \n",
    "# 키와 나이를 질문한 후에 ‘‘타도 좋습니다’’또는 ‘‘죄송합니다”를 출력하는 프로그램을 작성하여 보자. \n",
    "height = int(input('키를 입력하시오'))\n",
    "age = int(input('나이를 입력하세요'))\n",
    "if height >= 140 and age>=10:\n",
    "    print('타도 좋습니다')\n",
    "else:\n",
    "    print('너는 못탑니다')"
   ]
  },
  {
   "cell_type": "code",
   "execution_count": 44,
   "metadata": {},
   "outputs": [
    {
     "name": "stdout",
     "output_type": "stream",
     "text": [
      "너는 저체중\n"
     ]
    }
   ],
   "source": [
    "# 8) 사용자로부터 키를 입력받아서 표준 체중을 계산한 후에 사용자의 체중과 비교하여 저체중인지, 표준인지, 과체중인 \n",
    "# 지를 판단하는 프로그램을 작성하라. 표준 체중 계산식은 다음을 사용하라 \n",
    "\n",
    "weight, height = input('체중과 키를 입력하시오').split(' ')\n",
    "weight = float(weight)\n",
    "height = float(height)\n",
    "pyojun = (height - 100) * 0.9\n",
    "\n",
    "if weight > pyojun:\n",
    "    print('당신은 과체중')\n",
    "else:\n",
    "    if weight == pyojun:\n",
    "        print('너는 정상')\n",
    "    else:\n",
    "        print('너는 저체중')\n",
    "    "
   ]
  },
  {
   "cell_type": "code",
   "execution_count": 1,
   "metadata": {},
   "outputs": [
    {
     "name": "stdout",
     "output_type": "stream",
     "text": [
      "0.3333333333333333\n"
     ]
    }
   ],
   "source": [
    "# 9) 본문에서 덧셈 퀴즈를 자동으로 생성해보았다 이번에는 덧셈. 뺄셈. 곱셈 나눗셈 중에서 랜덤하게 선택하고 \n",
    "# 피연산자도 난수로 생성하여 사용자에게 제시하고 사용자의 답을 자동으로 채점하는 프로그램을 작성해보자. \n",
    "\n",
    "# 내가 입력하는게 아니고 얘가 줘야되는거  \n",
    "\n",
    "num1, cal, num2 = input('계산하고 싶은 식을 입력하세요 : ex) 1 / 3').split(' ')\n",
    "num1=int(num1)\n",
    "num2=int(num2)\n",
    "\n",
    "if cal == '+':\n",
    "    print(num1 + num2)\n",
    "elif cal == '-':\n",
    "    print(num1 - num2)\n",
    "elif cal == '*':\n",
    "    print(num1 * num2)\n",
    "else:\n",
    "    if num1>=0 and num2>0:\n",
    "        print(num1 / num2)\n",
    "    else:\n",
    "        print('0으로는 나눌수 없습니다')\n",
    "    \n",
    "    \n",
    "\n",
    "\n",
    "\n",
    "\n",
    "\n",
    "\n"
   ]
  },
  {
   "cell_type": "code",
   "execution_count": 1,
   "metadata": {},
   "outputs": [
    {
     "name": "stdout",
     "output_type": "stream",
     "text": [
      "<class 'int'>\n",
      "<class 'float'>\n",
      "12 정답입니다.\n"
     ]
    }
   ],
   "source": [
    "# 9번 문제 다시 소정아 도와줘 그지같은 문제라서 풀었는데 이런거 정말 어렵다\n",
    "import random\n",
    "\n",
    "def math_test():\n",
    "    num1= random.randint(1,10)\n",
    "    num2= random.randint(1,10)\n",
    "    cal=random.randint(1,4)\n",
    "    # 여기서 str로 변환 문자(연산자)랑 숫자는 못더해서 \n",
    "    num1=str(num1)\n",
    "    num2=str(num2)\n",
    "\n",
    "    if cal == 1:\n",
    "        calc_num = num1 + '+' + num2\n",
    "    elif cal == 2:\n",
    "        calc_num = num1 + '-' + num2\n",
    "    elif cal == 3:\n",
    "        calc_num = num1 + '*' + num2\n",
    "    elif cal == 4:\n",
    "        calc_num = num1 + '/' + num2\n",
    "    return calc_num\n",
    "\n",
    "a=math_test()\n",
    "\n",
    "student = input (f'{a} 답을 입력하세요 : ')\n",
    "student = float(student)\n",
    "\n",
    "# 이게 뭔지는 모르지만 계산해주는거 \n",
    "# 시부럴 소수점 주겨버려\n",
    "# 사실 eval 몰라서 정창수 교수님이 내줬던 문제 다시 봐따 반성한댜\n",
    "answer = round(eval(a),2)\n",
    "print(type(answer))\n",
    "print(type(student))\n",
    "\n",
    "if answer == student:\n",
    "    print(f'{answer} 정답입니다.')\n",
    "else:\n",
    "    print(f'땡 정답은 {answer}고 너는 {student}라니 저런 틀렸어 돌아가')\n",
    "\n"
   ]
  },
  {
   "cell_type": "code",
   "execution_count": 29,
   "metadata": {},
   "outputs": [
    {
     "name": "stdout",
     "output_type": "stream",
     "text": [
      "f(2.0)의 값은 16.0\n"
     ]
    }
   ],
   "source": [
    "# 10 함수의 값을 계산해 보자. 사용자로 부터 x의 값을 입력받아서 함수값을 계산하여\n",
    "# 화면에 출력한다\n",
    "x= float(input('x 의 값을 입력하시오'))\n",
    "def f(x):\n",
    "    if x<=0:\n",
    "        answer = (x*x)-(9*x)+2\n",
    "    else:\n",
    "        answer = 7*x+2\n",
    "    return answer\n",
    "\n",
    "# 아직도 헷가려 이자식을 왜 변수에 담아줘야하는지\n",
    "a=f(x)\n",
    "\n",
    "print(f'f({x})의 값은 {a}')\n",
    "\n",
    "\n"
   ]
  },
  {
   "cell_type": "code",
   "execution_count": 37,
   "metadata": {},
   "outputs": [
    {
     "name": "stdout",
     "output_type": "stream",
     "text": [
      "3.3489000000000004\n",
      "당신의 BMI : 25.680074054167036\n",
      "과체중입니다\n"
     ]
    }
   ],
   "source": [
    "# 11) BMI문제 사용자로 부터 신장과 체중을 입력받아서 BMI값에 따라 문제를 풀어봐\n",
    "weight= float(input('당신의 몸무게를 알랴저 숫자로만 입력해라'))\n",
    "height= float(input('당쟝 너의 키를 입력해'))\n",
    "\n",
    "m=height*height\n",
    "print(m)\n",
    "\n",
    "BMI = weight/(height*height)\n",
    "if 20<=BMI<=24.9:\n",
    "    print(f'당신의 BMI : {BMI}')\n",
    "    print('정상입니다')\n",
    "elif 25<=BMI<=29.9:\n",
    "    print(f'당신의 BMI : {BMI}')\n",
    "    print('과체중입니다')\n",
    "elif BMI >=30:\n",
    "    print(f'당신의 BMI : {BMI}')\n",
    "    print('비만입니다')\n",
    "\n"
   ]
  },
  {
   "cell_type": "code",
   "execution_count": 63,
   "metadata": {},
   "outputs": [
    {
     "name": "stdout",
     "output_type": "stream",
     "text": [
      "토끼띠 입니다.\n"
     ]
    }
   ],
   "source": [
    "# 12) 연도를 입력하면 띠를 출력하는 프로그램을 작성하쟈\n",
    "year = int(input('연도를 입력하시오 : '))\n",
    "\n",
    "ganzi = year%12\n",
    "\n",
    "if ganzi == 0:\n",
    "    print('원숭이띠 입니다')\n",
    "elif ganzi == 1:\n",
    "    print('닭띠 입니다.')\n",
    "elif ganzi == 2:\n",
    "    print('개띠 입니다.')\n",
    "elif ganzi == 3:\n",
    "    print('돼지띠 입니다.')\n",
    "elif ganzi == 4:\n",
    "    print('쥐띠 입니다.')\n",
    "elif ganzi == 5:\n",
    "    print('소띠 입니다.')\n",
    "elif ganzi == 6:\n",
    "    print('호랑이띠 입니다.')\n",
    "elif ganzi == 7:\n",
    "    print('토끼띠 입니다.')\n",
    "elif ganzi == 8:\n",
    "    print('용띠 입니다.')\n",
    "elif ganzi == 9:\n",
    "    print('뱀띠 입니다.')\n",
    "elif ganzi == 10:\n",
    "    print('말띠 입니다.')\n",
    "elif ganzi == 11:\n",
    "    print('양띠 입니다.')\n"
   ]
  },
  {
   "cell_type": "code",
   "execution_count": 45,
   "metadata": {},
   "outputs": [
    {
     "name": "stdout",
     "output_type": "stream",
     "text": [
      "윤년이 아닙니다.\n"
     ]
    }
   ],
   "source": [
    "# 13) 윤년은 2월달이 29일까지 있는 연도이다. 연도가 4로 나누어지지만\n",
    "# 100으로 나누어지지 않거나 또는 400으로 나누어 떨어지면 윤년이댜\n",
    "\n",
    "year = int(input('연도를 입력하세요'))\n",
    "if (year%4 ==0) and (year%100 != 0):\n",
    "    print('윤년입니다.')\n",
    "elif year%400 ==0:\n",
    "    print('윤년입니다.')\n",
    "else:\n",
    "    print('윤년이 아닙니다.')\n",
    "    "
   ]
  },
  {
   "cell_type": "code",
   "execution_count": 61,
   "metadata": {},
   "outputs": [
    {
     "name": "stdout",
     "output_type": "stream",
     "text": [
      "근의 개수는 2개\n"
     ]
    }
   ],
   "source": [
    "# 14) 사용자가 2차 방정식의 각 계수를 입력하면 2차 방적식의 근을 계산하여서\n",
    "# 출력하는 프로그램을 작성해라\n",
    "# 거지같은 근 정말 고등학생때 이거 어예했냐\n",
    "# 경멸\n",
    "\n",
    "\n",
    "a = int(input('a를 입력하세요 : '))\n",
    "b = int(input('b를 입력하세요 : '))\n",
    "c = int(input('c를 입력하세요 : '))\n",
    "\n",
    "r = (b**2) - (4*a*c)\n",
    "if r>0:\n",
    "    print('근의 개수는 2개')\n",
    "elif r==0:\n",
    "    print('중근이다')\n",
    "else:\n",
    "    print('근의 개수 0개')\n",
    "    \n",
    "\n"
   ]
  },
  {
   "cell_type": "code",
   "execution_count": 51,
   "metadata": {},
   "outputs": [
    {
     "name": "stdout",
     "output_type": "stream",
     "text": [
      "Express\n"
     ]
    }
   ],
   "source": [
    "# 15) 3의 배수면 python, 5의 배수면 express, 3의배수면서 5의 배수면 python express\n",
    "\n",
    "num = int(input('정수를 입력하세요'))\n",
    "if (num %3 ==0) and (num%5) ==0:\n",
    "    print('Python Express')\n",
    "elif num%3 == 0:\n",
    "    print('Python')\n",
    "elif num%5 == 0:\n",
    "    print('Express')\n",
    "else:\n",
    "    print('얘는 3의배수도 5의 배수도 아냐')"
   ]
  },
  {
   "cell_type": "code",
   "execution_count": 54,
   "metadata": {},
   "outputs": [
    {
     "name": "stdout",
     "output_type": "stream",
     "text": [
      "산성입니다\n"
     ]
    }
   ],
   "source": [
    "# 16) 사용자로부터 pH농도를 받아서 '알칼리', '산', '중성'으로 나누어서 출력하는\n",
    "# 프로그램을 작성하라. \n",
    "ph = float(input('Ph를 입력하십시오 : '))\n",
    "\n",
    "if 7< ph <=14:\n",
    "    print('알칼리 입니다')\n",
    "elif ph == 7:\n",
    "    print('중성입니다')\n",
    "elif 1<= ph <7:\n",
    "    print('산성입니다')\n",
    "else:\n",
    "    print('아무것도 아닙니다.')"
   ]
  }
 ],
 "metadata": {
  "kernelspec": {
   "display_name": "Python 3",
   "language": "python",
   "name": "python3"
  },
  "language_info": {
   "codemirror_mode": {
    "name": "ipython",
    "version": 3
   },
   "file_extension": ".py",
   "mimetype": "text/x-python",
   "name": "python",
   "nbconvert_exporter": "python",
   "pygments_lexer": "ipython3",
   "version": "3.11.1"
  },
  "orig_nbformat": 4,
  "vscode": {
   "interpreter": {
    "hash": "d417a21d97a2e6b8832d21dc44f5cbe4be6e18325f874a8bb8484565b928cd54"
   }
  }
 },
 "nbformat": 4,
 "nbformat_minor": 2
}
