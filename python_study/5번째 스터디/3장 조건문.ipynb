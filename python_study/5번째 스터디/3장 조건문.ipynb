{
 "cells": [
  {
   "cell_type": "markdown",
   "id": "2bc045c3",
   "metadata": {},
   "source": [
    "# 파이썬 스터디\n",
    "## 3장 조건문 conditional statement"
   ]
  },
  {
   "cell_type": "markdown",
   "id": "5bbe0122",
   "metadata": {},
   "source": [
    "### [9번 보충] random module\n",
    "#### 랜덤으로 숫자 뽑기\n",
    "* **`random.randrange([stat,] stop[, step])`**: stat <= N < stop에서 하나의 원소를 step 간격에 맞춰 뽑아줌. \n",
    "* **`random.randint(a, b)`**: a <= N <= b에서 하나의 원소를 뽑아줌. `random.randrange(a, b+1)`과 같음.\n",
    "* **`random.random()`**: 0.0 <= x <= 1.0에서 실수 하나를 뽑아줌\n",
    "\n",
    "#### 리스트에서 랜덤으로 원소 뽑기 \n",
    "* **`random.choice(data)`**: 랜덤으로 리스트(문자열 등)의 요소 **한개** 리턴  \n",
    "* **`random.sample(data, num)`**: 랜덤으로 리스트(문자열 등)의 요소 중 **여러개**를 **중복 없이** 리턴함.  \n",
    "* **`random.choices(data, k)`**: 랜덤으로 리스트(문자열 등)의 요소 중 **여러개**를 **중복해** 리턴함.\n",
    "    * **data**는 list, tuple, set, string은 가능하나 빈리스트나 딕셔너리는 불가능하다. \n",
    "    \n",
    "#### 참고자료:   \n",
    "https://docs.python.org/3/library/random.html  \n",
    "https://ponyozzang.tistory.com/702"
   ]
  },
  {
   "cell_type": "markdown",
   "id": "6c5e97db",
   "metadata": {},
   "source": [
    "#### 1) `random.choice(data)`"
   ]
  },
  {
   "cell_type": "code",
   "execution_count": 37,
   "id": "56864456",
   "metadata": {},
   "outputs": [
    {
     "data": {
      "text/plain": [
       "3"
      ]
     },
     "execution_count": 37,
     "metadata": {},
     "output_type": "execute_result"
    }
   ],
   "source": [
    "import random\n",
    "i = [0, 1, 2, 3, 4]\n",
    "random.choice(i)"
   ]
  },
  {
   "cell_type": "code",
   "execution_count": 44,
   "id": "051b7153",
   "metadata": {},
   "outputs": [
    {
     "name": "stdout",
     "output_type": "stream",
     "text": [
      "abc\n",
      "d\n"
     ]
    }
   ],
   "source": [
    "print(random.choice(('abc', 'def', 'sdfsaaf'))) # tuple에서 하나 반환\n",
    "print(random.choice('abcde'))  # 문자열에서 하나를 반환"
   ]
  },
  {
   "cell_type": "code",
   "execution_count": 39,
   "id": "20c50aaf",
   "metadata": {},
   "outputs": [
    {
     "ename": "KeyError",
     "evalue": "0",
     "output_type": "error",
     "traceback": [
      "\u001b[1;31m---------------------------------------------------------------------------\u001b[0m",
      "\u001b[1;31mKeyError\u001b[0m                                  Traceback (most recent call last)",
      "\u001b[1;32m~\\AppData\\Local\\Temp\\ipykernel_8772\\3770715948.py\u001b[0m in \u001b[0;36m<module>\u001b[1;34m\u001b[0m\n\u001b[0;32m      1\u001b[0m \u001b[1;31m# 딕셔너리는 불가능\u001b[0m\u001b[1;33m\u001b[0m\u001b[1;33m\u001b[0m\u001b[0m\n\u001b[1;32m----> 2\u001b[1;33m \u001b[0mrandom\u001b[0m\u001b[1;33m.\u001b[0m\u001b[0mchoice\u001b[0m\u001b[1;33m(\u001b[0m\u001b[1;33m{\u001b[0m\u001b[1;36m1\u001b[0m\u001b[1;33m:\u001b[0m \u001b[1;34m'abc'\u001b[0m\u001b[1;33m,\u001b[0m \u001b[1;36m2\u001b[0m\u001b[1;33m:\u001b[0m\u001b[1;34m'cdfs'\u001b[0m\u001b[1;33m,\u001b[0m \u001b[1;36m3\u001b[0m\u001b[1;33m:\u001b[0m\u001b[1;34m'sagag'\u001b[0m\u001b[1;33m}\u001b[0m\u001b[1;33m)\u001b[0m\u001b[1;33m\u001b[0m\u001b[1;33m\u001b[0m\u001b[0m\n\u001b[0m",
      "\u001b[1;32m~\\anaconda3\\lib\\random.py\u001b[0m in \u001b[0;36mchoice\u001b[1;34m(self, seq)\u001b[0m\n\u001b[0;32m    344\u001b[0m         \u001b[1;34m\"\"\"Choose a random element from a non-empty sequence.\"\"\"\u001b[0m\u001b[1;33m\u001b[0m\u001b[1;33m\u001b[0m\u001b[0m\n\u001b[0;32m    345\u001b[0m         \u001b[1;31m# raises IndexError if seq is empty\u001b[0m\u001b[1;33m\u001b[0m\u001b[1;33m\u001b[0m\u001b[0m\n\u001b[1;32m--> 346\u001b[1;33m         \u001b[1;32mreturn\u001b[0m \u001b[0mseq\u001b[0m\u001b[1;33m[\u001b[0m\u001b[0mself\u001b[0m\u001b[1;33m.\u001b[0m\u001b[0m_randbelow\u001b[0m\u001b[1;33m(\u001b[0m\u001b[0mlen\u001b[0m\u001b[1;33m(\u001b[0m\u001b[0mseq\u001b[0m\u001b[1;33m)\u001b[0m\u001b[1;33m)\u001b[0m\u001b[1;33m]\u001b[0m\u001b[1;33m\u001b[0m\u001b[1;33m\u001b[0m\u001b[0m\n\u001b[0m\u001b[0;32m    347\u001b[0m \u001b[1;33m\u001b[0m\u001b[0m\n\u001b[0;32m    348\u001b[0m     \u001b[1;32mdef\u001b[0m \u001b[0mshuffle\u001b[0m\u001b[1;33m(\u001b[0m\u001b[0mself\u001b[0m\u001b[1;33m,\u001b[0m \u001b[0mx\u001b[0m\u001b[1;33m,\u001b[0m \u001b[0mrandom\u001b[0m\u001b[1;33m=\u001b[0m\u001b[1;32mNone\u001b[0m\u001b[1;33m)\u001b[0m\u001b[1;33m:\u001b[0m\u001b[1;33m\u001b[0m\u001b[1;33m\u001b[0m\u001b[0m\n",
      "\u001b[1;31mKeyError\u001b[0m: 0"
     ]
    }
   ],
   "source": [
    "# 딕셔너리는 불가능\n",
    "random.choice({1: 'abc', 2:'cdfs', 3:'sagag'})"
   ]
  },
  {
   "cell_type": "code",
   "execution_count": 40,
   "id": "f9ec77eb",
   "metadata": {
    "scrolled": true
   },
   "outputs": [
    {
     "ename": "IndexError",
     "evalue": "list index out of range",
     "output_type": "error",
     "traceback": [
      "\u001b[1;31m---------------------------------------------------------------------------\u001b[0m",
      "\u001b[1;31mIndexError\u001b[0m                                Traceback (most recent call last)",
      "\u001b[1;32m~\\AppData\\Local\\Temp\\ipykernel_8772\\957376142.py\u001b[0m in \u001b[0;36m<module>\u001b[1;34m\u001b[0m\n\u001b[0;32m      1\u001b[0m \u001b[1;31m# 빈리스트 불가능\u001b[0m\u001b[1;33m\u001b[0m\u001b[1;33m\u001b[0m\u001b[0m\n\u001b[1;32m----> 2\u001b[1;33m \u001b[0mrandom\u001b[0m\u001b[1;33m.\u001b[0m\u001b[0mchoice\u001b[0m\u001b[1;33m(\u001b[0m\u001b[1;33m[\u001b[0m\u001b[1;33m]\u001b[0m\u001b[1;33m)\u001b[0m\u001b[1;33m\u001b[0m\u001b[1;33m\u001b[0m\u001b[0m\n\u001b[0m",
      "\u001b[1;32m~\\anaconda3\\lib\\random.py\u001b[0m in \u001b[0;36mchoice\u001b[1;34m(self, seq)\u001b[0m\n\u001b[0;32m    344\u001b[0m         \u001b[1;34m\"\"\"Choose a random element from a non-empty sequence.\"\"\"\u001b[0m\u001b[1;33m\u001b[0m\u001b[1;33m\u001b[0m\u001b[0m\n\u001b[0;32m    345\u001b[0m         \u001b[1;31m# raises IndexError if seq is empty\u001b[0m\u001b[1;33m\u001b[0m\u001b[1;33m\u001b[0m\u001b[0m\n\u001b[1;32m--> 346\u001b[1;33m         \u001b[1;32mreturn\u001b[0m \u001b[0mseq\u001b[0m\u001b[1;33m[\u001b[0m\u001b[0mself\u001b[0m\u001b[1;33m.\u001b[0m\u001b[0m_randbelow\u001b[0m\u001b[1;33m(\u001b[0m\u001b[0mlen\u001b[0m\u001b[1;33m(\u001b[0m\u001b[0mseq\u001b[0m\u001b[1;33m)\u001b[0m\u001b[1;33m)\u001b[0m\u001b[1;33m]\u001b[0m\u001b[1;33m\u001b[0m\u001b[1;33m\u001b[0m\u001b[0m\n\u001b[0m\u001b[0;32m    347\u001b[0m \u001b[1;33m\u001b[0m\u001b[0m\n\u001b[0;32m    348\u001b[0m     \u001b[1;32mdef\u001b[0m \u001b[0mshuffle\u001b[0m\u001b[1;33m(\u001b[0m\u001b[0mself\u001b[0m\u001b[1;33m,\u001b[0m \u001b[0mx\u001b[0m\u001b[1;33m,\u001b[0m \u001b[0mrandom\u001b[0m\u001b[1;33m=\u001b[0m\u001b[1;32mNone\u001b[0m\u001b[1;33m)\u001b[0m\u001b[1;33m:\u001b[0m\u001b[1;33m\u001b[0m\u001b[1;33m\u001b[0m\u001b[0m\n",
      "\u001b[1;31mIndexError\u001b[0m: list index out of range"
     ]
    }
   ],
   "source": [
    "# 빈리스트 불가능\n",
    "random.choice([])"
   ]
  },
  {
   "cell_type": "markdown",
   "id": "0c3de099",
   "metadata": {},
   "source": [
    "#### 2) `random.sample(data, k)`"
   ]
  },
  {
   "cell_type": "code",
   "execution_count": 42,
   "id": "eb99deb1",
   "metadata": {
    "scrolled": true
   },
   "outputs": [
    {
     "data": {
      "text/plain": [
       "[4, 3, 0]"
      ]
     },
     "execution_count": 42,
     "metadata": {},
     "output_type": "execute_result"
    }
   ],
   "source": [
    "random.sample(i, 3)"
   ]
  },
  {
   "cell_type": "code",
   "execution_count": 52,
   "id": "e1c7e19a",
   "metadata": {},
   "outputs": [
    {
     "ename": "ValueError",
     "evalue": "Sample larger than population or is negative",
     "output_type": "error",
     "traceback": [
      "\u001b[1;31m---------------------------------------------------------------------------\u001b[0m",
      "\u001b[1;31mValueError\u001b[0m                                Traceback (most recent call last)",
      "\u001b[1;32m~\\AppData\\Local\\Temp\\ipykernel_8772\\1194267014.py\u001b[0m in \u001b[0;36m<module>\u001b[1;34m\u001b[0m\n\u001b[0;32m      1\u001b[0m \u001b[1;31m# 리스트의 요소보다 추출할려는 갯수가 더 많으면 오류 발생\u001b[0m\u001b[1;33m\u001b[0m\u001b[1;33m\u001b[0m\u001b[0m\n\u001b[1;32m----> 2\u001b[1;33m \u001b[0mrandom\u001b[0m\u001b[1;33m.\u001b[0m\u001b[0msample\u001b[0m\u001b[1;33m(\u001b[0m\u001b[0mi\u001b[0m\u001b[1;33m,\u001b[0m \u001b[1;36m10\u001b[0m\u001b[1;33m)\u001b[0m\u001b[1;33m\u001b[0m\u001b[1;33m\u001b[0m\u001b[0m\n\u001b[0m",
      "\u001b[1;32m~\\anaconda3\\lib\\random.py\u001b[0m in \u001b[0;36msample\u001b[1;34m(self, population, k, counts)\u001b[0m\n\u001b[0;32m    447\u001b[0m         \u001b[0mrandbelow\u001b[0m \u001b[1;33m=\u001b[0m \u001b[0mself\u001b[0m\u001b[1;33m.\u001b[0m\u001b[0m_randbelow\u001b[0m\u001b[1;33m\u001b[0m\u001b[1;33m\u001b[0m\u001b[0m\n\u001b[0;32m    448\u001b[0m         \u001b[1;32mif\u001b[0m \u001b[1;32mnot\u001b[0m \u001b[1;36m0\u001b[0m \u001b[1;33m<=\u001b[0m \u001b[0mk\u001b[0m \u001b[1;33m<=\u001b[0m \u001b[0mn\u001b[0m\u001b[1;33m:\u001b[0m\u001b[1;33m\u001b[0m\u001b[1;33m\u001b[0m\u001b[0m\n\u001b[1;32m--> 449\u001b[1;33m             \u001b[1;32mraise\u001b[0m \u001b[0mValueError\u001b[0m\u001b[1;33m(\u001b[0m\u001b[1;34m\"Sample larger than population or is negative\"\u001b[0m\u001b[1;33m)\u001b[0m\u001b[1;33m\u001b[0m\u001b[1;33m\u001b[0m\u001b[0m\n\u001b[0m\u001b[0;32m    450\u001b[0m         \u001b[0mresult\u001b[0m \u001b[1;33m=\u001b[0m \u001b[1;33m[\u001b[0m\u001b[1;32mNone\u001b[0m\u001b[1;33m]\u001b[0m \u001b[1;33m*\u001b[0m \u001b[0mk\u001b[0m\u001b[1;33m\u001b[0m\u001b[1;33m\u001b[0m\u001b[0m\n\u001b[0;32m    451\u001b[0m         \u001b[0msetsize\u001b[0m \u001b[1;33m=\u001b[0m \u001b[1;36m21\u001b[0m        \u001b[1;31m# size of a small set minus size of an empty list\u001b[0m\u001b[1;33m\u001b[0m\u001b[1;33m\u001b[0m\u001b[0m\n",
      "\u001b[1;31mValueError\u001b[0m: Sample larger than population or is negative"
     ]
    }
   ],
   "source": [
    "# 리스트의 요소보다 추출할려는 갯수가 더 많으면 오류 발생\n",
    "random.sample(i, 10)"
   ]
  },
  {
   "cell_type": "code",
   "execution_count": 46,
   "id": "b75e07d5",
   "metadata": {},
   "outputs": [
    {
     "name": "stdout",
     "output_type": "stream",
     "text": [
      "['abc', 'def']\n",
      "['c', 'd']\n",
      "da\n"
     ]
    }
   ],
   "source": [
    "print(random.sample(('abc', 'def', 'sdfsaaf'), 2)) # tuple에서 하나 반환\n",
    "print(random.sample('abcde', 2))  # 문자열에서 하나를 반환\n",
    "print(''.join(random.sample('abcde', 2)))  # 리스트가 아닌 문자열로 반환"
   ]
  },
  {
   "cell_type": "code",
   "execution_count": 47,
   "id": "cf516914",
   "metadata": {},
   "outputs": [
    {
     "name": "stdout",
     "output_type": "stream",
     "text": [
      "[0, 3, 4, 4]\n",
      "[2, 4, 3, 0]\n"
     ]
    },
    {
     "name": "stderr",
     "output_type": "stream",
     "text": [
      "C:\\Users\\sojnl\\AppData\\Local\\Temp\\ipykernel_8772\\3967203914.py:4: DeprecationWarning: Sampling from a set deprecated\n",
      "since Python 3.9 and will be removed in a subsequent version.\n",
      "  print(random.sample(set(i2), 4))\n"
     ]
    }
   ],
   "source": [
    "# random.sample를 사용하더라도 추출 대상에 중복 값이 있는 경우 중복된 값이 반환될 수 있음. set을 사용해서 중복값을 제거해 줘야됨\n",
    "i2 = [0, 0, 0, 1, 1, 1, 2, 2, 2, 3, 3, 3, 4, 4, 4]\n",
    "print(random.sample(i2, 4))\n",
    "print(random.sample(set(i2), 4))"
   ]
  },
  {
   "cell_type": "markdown",
   "id": "0d8e54a2",
   "metadata": {},
   "source": [
    "#### 3) `random.choices(data, k)`"
   ]
  },
  {
   "cell_type": "code",
   "execution_count": 49,
   "id": "cdae10d4",
   "metadata": {
    "scrolled": true
   },
   "outputs": [
    {
     "data": {
      "text/plain": [
       "[2, 1, 1]"
      ]
     },
     "execution_count": 49,
     "metadata": {},
     "output_type": "execute_result"
    }
   ],
   "source": [
    "random.choices(i, k = 3)"
   ]
  },
  {
   "cell_type": "code",
   "execution_count": 53,
   "id": "7e7ce9e5",
   "metadata": {},
   "outputs": [
    {
     "data": {
      "text/plain": [
       "[1, 2, 3, 2, 1, 2, 4, 3, 0, 4]"
      ]
     },
     "execution_count": 53,
     "metadata": {},
     "output_type": "execute_result"
    }
   ],
   "source": [
    "# 리스트의 요소보다 많아도 리턴 가능 -> 중복 가능해서 \n",
    "random.choices(i, k = 10)"
   ]
  },
  {
   "cell_type": "code",
   "execution_count": 55,
   "id": "dec444d7",
   "metadata": {},
   "outputs": [
    {
     "name": "stdout",
     "output_type": "stream",
     "text": [
      "['def', 'def']\n",
      "['e', 'c']\n",
      "ce\n"
     ]
    }
   ],
   "source": [
    "print(random.choices(('abc', 'def', 'sdfsaaf'), k= 2)) # tuple에서 하나 반환\n",
    "print(random.choices('abcde', k=2))  # 문자열에서 하나를 반환\n",
    "print(''.join(random.choices('abcde', k =2)))  # 리스트가 아닌 문자열로 반환"
   ]
  },
  {
   "cell_type": "markdown",
   "id": "3b83a48a",
   "metadata": {},
   "source": [
    "#### 문제1) \n",
    "사용자로부터 2개의 정수를 받아서 첫 번째 정수가 두 번째 정수로 나누어 떨어지는 지를 검사하는 프로그 램을 작성하라. 즉 약수인지를 검사한다.\n",
    "> 정수를 입력하시오: 18  \n",
    "정수를 입력하시오: 6  \n",
    "약수입니다."
   ]
  },
  {
   "cell_type": "code",
   "execution_count": 1,
   "id": "ad1a2a56",
   "metadata": {},
   "outputs": [
    {
     "name": "stdout",
     "output_type": "stream",
     "text": [
      "정수를 입력하시오: 18\n",
      "정수를 입력하시오: 6\n"
     ]
    }
   ],
   "source": [
    "# str.isdecimal()\n",
    "num1 = input('정수를 입력하시오: ')\n",
    "if num1.isdecimal():\n",
    "    num1 = int(num1)\n",
    "else: \n",
    "    num1 = input('정수를 입력하시오: ')\n",
    "\n",
    "# 예외처리\n",
    "try: \n",
    "    num2 = int(input('정수를 입력하시오: '))\n",
    "except:\n",
    "    print('정수로 입력하세요.')\n",
    "    num2 = int(input('정수를 입력하시오: '))"
   ]
  },
  {
   "cell_type": "code",
   "execution_count": 2,
   "id": "6e7c01cd",
   "metadata": {},
   "outputs": [
    {
     "name": "stdout",
     "output_type": "stream",
     "text": [
      "약수입니다.\n"
     ]
    }
   ],
   "source": [
    "if num1 % num2 == 0:\n",
    "    print('약수입니다.')\n",
    "else: print('약수가 아닙니다.')"
   ]
  },
  {
   "cell_type": "code",
   "execution_count": 3,
   "id": "83def1a4",
   "metadata": {},
   "outputs": [
    {
     "name": "stdout",
     "output_type": "stream",
     "text": [
      "약수입니다.\n"
     ]
    }
   ],
   "source": [
    "# 조건부 표현식\n",
    "ans1 = '약수입니다.' if num1 % num2 == 0 else '약수가 아닙니다.'\n",
    "print(ans1)"
   ]
  },
  {
   "cell_type": "markdown",
   "id": "2a091367",
   "metadata": {},
   "source": [
    "#### 문제2)\n",
    "사용자에게 현재 온도를 질문하고 온도가 25도 이상이면 반바지를 추천하고 25도 미만이면 긴바지를 추천하는 프로그램을작성해보자.\n",
    "> 현재 온도를 입력하시오: 10  \n",
    "긴바지를 추천합니다."
   ]
  },
  {
   "cell_type": "code",
   "execution_count": 1,
   "id": "ba1b9c07",
   "metadata": {},
   "outputs": [
    {
     "name": "stdout",
     "output_type": "stream",
     "text": [
      "현재 온도를 입력하세요: 10\n"
     ]
    }
   ],
   "source": [
    "temp = int(input('현재 온도를 입력하세요: '))"
   ]
  },
  {
   "cell_type": "code",
   "execution_count": 3,
   "id": "c713d655",
   "metadata": {},
   "outputs": [
    {
     "name": "stdout",
     "output_type": "stream",
     "text": [
      "긴바지를 추천합니다.\n"
     ]
    }
   ],
   "source": [
    "# 일반 조건문\n",
    "if temp >= 25:\n",
    "    print('반바지를 추천합니다.')\n",
    "else:\n",
    "    print('긴바지를 추천합니다.')"
   ]
  },
  {
   "cell_type": "code",
   "execution_count": 2,
   "id": "25c0784a",
   "metadata": {},
   "outputs": [
    {
     "name": "stdout",
     "output_type": "stream",
     "text": [
      "긴바지를 추천합니다.\n"
     ]
    }
   ],
   "source": [
    "# 조건부 표현식\n",
    "print('반바지를 추천합니다.') if temp >= 25 else print('긴바지를 추천합니다.')"
   ]
  },
  {
   "cell_type": "markdown",
   "id": "067defc7",
   "metadata": {},
   "source": [
    "#### 문제3)\n",
    "사용자로부터 하나의 문자를 입력받아서 문자가 'R' 이나 'r' 이면 \"Rectangle\" 이라고 출력한다. 'T' 아거나 't'이면 \"Triangle\", ' C'O | 거나 'c' 이면 \"Circle\" 이라고 출력하는 프로그램을 작성한다 . 그 외의 문자가 들어오면\n",
    "\"Unknown\" 이라고 출력한다.\n",
    "> 문자를 입력하시오: c  \n",
    "Circle "
   ]
  },
  {
   "cell_type": "code",
   "execution_count": 12,
   "id": "61dbd9f3",
   "metadata": {},
   "outputs": [
    {
     "name": "stdout",
     "output_type": "stream",
     "text": [
      "문자를 입력하세요: c\n"
     ]
    }
   ],
   "source": [
    "s = input('문자를 입력하세요: ').strip()\n",
    "if len(s) > 1:\n",
    "    print('하나의 알파벳을 입력하세요')\n",
    "    if s.isalpha():\n",
    "        print('알파벳을 입력하세요')\n",
    "    s = input('문자를 입력하세요: ').strip()\n",
    "    "
   ]
  },
  {
   "cell_type": "code",
   "execution_count": 13,
   "id": "832f84a5",
   "metadata": {},
   "outputs": [
    {
     "name": "stdout",
     "output_type": "stream",
     "text": [
      "Circle\n"
     ]
    }
   ],
   "source": [
    "if s in ('R', 'r'):\n",
    "    print('Rectangle')\n",
    "elif s in ('T', 't'):\n",
    "    print('Triangle')\n",
    "elif s in ('C', 'c'):\n",
    "    print('Circle')\n",
    "else:\n",
    "    print('Unknown')"
   ]
  },
  {
   "cell_type": "markdown",
   "id": "978ef57d",
   "metadata": {},
   "source": [
    "#### 문제4) \n",
    "원의 넓이를 계산하는 프로그램에서 사용자가 입력한 원의 반지름을 검증해보자. 사용자가 입력한 값이 음수이면 \"잘못된 값입니다\"를 출력하도록 프로그램을 작성해보자.\n",
    ">원의 반지름: 10  \n",
    "원의 면적: 314.0"
   ]
  },
  {
   "cell_type": "code",
   "execution_count": 15,
   "id": "b43a654a",
   "metadata": {},
   "outputs": [
    {
     "name": "stdout",
     "output_type": "stream",
     "text": [
      "원의 반지름: 10\n",
      "원의 면적: 314.0\n"
     ]
    }
   ],
   "source": [
    "r = int(input('원의 반지름: ').strip())\n",
    "area = float(input('원의 면적: ').strip())\n",
    "\n",
    "if r < 0 | area < 0: print('잘못된 값입니다.')"
   ]
  },
  {
   "cell_type": "code",
   "execution_count": 16,
   "id": "aa1f17d8",
   "metadata": {},
   "outputs": [
    {
     "name": "stdout",
     "output_type": "stream",
     "text": [
      "맞습니다.\n"
     ]
    }
   ],
   "source": [
    "if area == r ** 2 * 3.14:\n",
    "    print('맞습니다.')\n",
    "else:\n",
    "    print('틀렸습니다. 다시 풀어보세요.')"
   ]
  },
  {
   "cell_type": "code",
   "execution_count": 17,
   "id": "474b37d9",
   "metadata": {},
   "outputs": [
    {
     "name": "stdout",
     "output_type": "stream",
     "text": [
      "맞습니다.\n"
     ]
    }
   ],
   "source": [
    "조건부 표현식\n",
    "print('맞습니다.') if area == r ** 2 * 3.14 else print('틀렸습니다. 다시 풀어보세요.')"
   ]
  },
  {
   "cell_type": "markdown",
   "id": "8d51475e",
   "metadata": {},
   "source": [
    "#### 문제5)\n",
    "사용자로부터 3 개의 정수를 읽어 들인 후에 if-else 문을 사용하여 가장 작은 값을 결정하는 프로그램을 작성하라.\n",
    "> 3 개의 정수를 입력하시오: 10, 20, 30  \n",
    "제일 작은 정수는 10 입니다."
   ]
  },
  {
   "cell_type": "code",
   "execution_count": 40,
   "id": "c4bedd42",
   "metadata": {},
   "outputs": [
    {
     "name": "stdout",
     "output_type": "stream",
     "text": [
      "3개의 정수를 입력하세요: 10, 20, 30\n",
      "10 20 30\n"
     ]
    }
   ],
   "source": [
    "a, b, c = map(int, input('3개의 정수를 입력하세요: ').split(', '))\n",
    "print(a, b, c)"
   ]
  },
  {
   "cell_type": "code",
   "execution_count": 41,
   "id": "93752009",
   "metadata": {},
   "outputs": [
    {
     "data": {
      "text/plain": [
       "10"
      ]
     },
     "execution_count": 41,
     "metadata": {},
     "output_type": "execute_result"
    }
   ],
   "source": [
    "# 방법1) min() 사용\n",
    "min([a, b, c])"
   ]
  },
  {
   "cell_type": "code",
   "execution_count": 43,
   "id": "bfe6b443",
   "metadata": {},
   "outputs": [
    {
     "name": "stdout",
     "output_type": "stream",
     "text": [
      "제일 작은 정수는 10입니다.\n"
     ]
    }
   ],
   "source": [
    "# 방법2) if-elif-else 구문\n",
    "def p(string):\n",
    "    print(f'제일 작은 정수는 {string}입니다.')\n",
    "\n",
    "if (a < b < c) or (a < b == c):\n",
    "    p(a)\n",
    "elif (b < a < c) | (b < a == c):\n",
    "    p(b)\n",
    "elif c < a < b | c < a == b:\n",
    "    p(c)\n",
    "else:\n",
    "    p(a)"
   ]
  },
  {
   "cell_type": "markdown",
   "id": "051bfddb",
   "metadata": {},
   "source": [
    "#### 문제 6)\n",
    "컴퓨터와 가위, 바위, 보 게임을 하는 프로그램을 작성하라. 컴퓨터는 사용자에게 알리지 않고 가위, 바위, 보 중에서 임의로 하나를 선택한다 사용자는 프로그램의 입력 안 내 메시지에 따라서 , 3개 중에서 하나를 선택하게 된다. 사용자의 선택이 끝나면 컴퓨터는 누가가 무엇을 선택하였고 누가 이겼는지. 비겼는지를 알려준다.\n",
    "> 선택하시오 (1: 가위 2: 바위 3: 보) 1  \n",
    "컴퓨터의 선택 (1: 가위 2: 바위 3: 보) 2  \n",
    "컴퓨터가 이겼음"
   ]
  },
  {
   "cell_type": "code",
   "execution_count": 56,
   "id": "f0f8a443",
   "metadata": {},
   "outputs": [
    {
     "name": "stdout",
     "output_type": "stream",
     "text": [
      "선택하세요(1:가위, 2:바위, 3:보) 중: 1\n",
      "컴퓨터의 선택(1:가위, 2:바위, 3:보) 중: 2\n"
     ]
    }
   ],
   "source": [
    "import random\n",
    "player = input(\"선택하세요(1:가위, 2:바위, 3:보) 중: \")\n",
    "com = input(\"컴퓨터의 선택(1:가위, 2:바위, 3:보) 중: \")"
   ]
  },
  {
   "cell_type": "code",
   "execution_count": 62,
   "id": "09bfbc7b",
   "metadata": {},
   "outputs": [
    {
     "name": "stdout",
     "output_type": "stream",
     "text": [
      "사용자:  바위 컴퓨터:  보\n"
     ]
    }
   ],
   "source": [
    "Rock = {'0': '가위', '1':'바위', '2':'보'}\n",
    "player = Rock[player]\n",
    "com = Rock[com]\n",
    "print(\"사용자: \", player, \"컴퓨터: \", com)"
   ]
  },
  {
   "cell_type": "code",
   "execution_count": 60,
   "id": "313f0d17",
   "metadata": {},
   "outputs": [
    {
     "name": "stdout",
     "output_type": "stream",
     "text": [
      "사용자:  1 컴퓨터:  2\n"
     ]
    }
   ],
   "source": [
    "def fine_rock(s):\n",
    "    if s == '0':\n",
    "        s = \"가위\"\n",
    "    elif s == '1':\n",
    "        s = \"바위\"\n",
    "    else:\n",
    "        s =  \"보\"\n",
    "    return s\n",
    "\n",
    "fine_rock(player)\n",
    "fine_rock(com)\n",
    "\n",
    "print(\"사용자: \", player, \"컴퓨터: \", com)"
   ]
  },
  {
   "cell_type": "code",
   "execution_count": 63,
   "id": "d0085a91",
   "metadata": {},
   "outputs": [
    {
     "name": "stdout",
     "output_type": "stream",
     "text": [
      "computer win\n"
     ]
    }
   ],
   "source": [
    "if player == com:\n",
    "    print(\"비겼음\")\n",
    "elif player == \"바위\":\n",
    "    if com == \"가위\":\n",
    "        print(\"player win\")\n",
    "    else:\n",
    "        print(\"computer win\")\n",
    "elif player == \"가위\":\n",
    "    if com == \"보\":\n",
    "        print(\"player win\")\n",
    "    else:\n",
    "        print(\"computer win\")\n",
    "elif player == \"보\":\n",
    "    if com == \"바위\":\n",
    "        print(\"player win\")\n",
    "    else:\n",
    "        print(\"computer win\")"
   ]
  },
  {
   "cell_type": "markdown",
   "id": "e43eb9f9",
   "metadata": {},
   "source": [
    "#### 문제 7)\n",
    "놀이 공원에서 롤러코스터에 타려면 키가 140cm 이상이고 나이가 10살 이상이어야 한다고 가정하자. 사용자에게 키와 나이를 질문한 후에 \"타도 좋습니다\" 또는 \"죄송합니다\"를 출력하는 프로그램을 작성하여 보자.\n",
    ">키를 입력하시오 (cm): 145  \n",
    "나이를 입력하시오: 11  \n",
    "타도 좋 습니다."
   ]
  },
  {
   "cell_type": "code",
   "execution_count": 68,
   "id": "a05325ab",
   "metadata": {},
   "outputs": [
    {
     "name": "stdout",
     "output_type": "stream",
     "text": [
      "키를 입력하세요(cm): 145\n",
      "나이를 입력하시오: 11\n"
     ]
    },
    {
     "data": {
      "text/plain": [
       "(145, 11)"
      ]
     },
     "execution_count": 68,
     "metadata": {},
     "output_type": "execute_result"
    }
   ],
   "source": [
    "hieght = int(input('키를 입력하세요(cm): '))\n",
    "age = int(input('나이를 입력하시오: '))\n",
    "hieght, age"
   ]
  },
  {
   "cell_type": "code",
   "execution_count": 69,
   "id": "d8657429",
   "metadata": {},
   "outputs": [
    {
     "name": "stdout",
     "output_type": "stream",
     "text": [
      "타도 좋습니다.\n"
     ]
    }
   ],
   "source": [
    "if (hieght >= 140) & (age >= 10):\n",
    "    print('타도 좋습니다.')\n",
    "else:\n",
    "    print('죄송합니다.')"
   ]
  },
  {
   "cell_type": "code",
   "execution_count": 71,
   "id": "6e322047",
   "metadata": {},
   "outputs": [
    {
     "name": "stdout",
     "output_type": "stream",
     "text": [
      "타도 좋습니다.\n"
     ]
    }
   ],
   "source": [
    "print('타도 좋습니다.') if (hieght >= 140) & (age >= 10) else print('죄송합니다.')"
   ]
  },
  {
   "cell_type": "markdown",
   "id": "aaf1d630",
   "metadata": {},
   "source": [
    "#### 문제 8)\n",
    "사용자로부터 키를 입력받아서 표준 체중을 계산한 후에 사용자의 체중과 비교하여 저체중인지, 표준인지, 과체중인지를 판단하는 프로그램을 작성하라. 표준 체중 계산식은 다음을 사용하라.\n",
    "$$표준 체중 = （키 -100 ) \\times 0.9$$\n",
    ">체중과 키를 입력하시오: 180 80  \n",
    "과체중입니다."
   ]
  },
  {
   "cell_type": "code",
   "execution_count": 4,
   "id": "352ba049",
   "metadata": {},
   "outputs": [
    {
     "name": "stdout",
     "output_type": "stream",
     "text": [
      "180 80\n",
      "과체중\n"
     ]
    }
   ],
   "source": [
    "height, Weight = map(int, input().split())\n",
    "standard = (height - 100) * 0.9\n",
    "s = '저체충' if Weight < standard else '표준' if Weight == standard else '과체중'\n",
    "print(s)"
   ]
  },
  {
   "cell_type": "markdown",
   "id": "c0291e70",
   "metadata": {},
   "source": [
    "#### 문제 9)\n",
    "본문에서 덧셈 퀴즈를 자동으로 생성해보았다 이번에는 덧셈, 뺄셈, 곱셈, 나눗셈 중에서 하나를 랜덤하게 선택하고 피연산자도 난수로 생성하여 사용자에게 제시하고 사용자의 답을 자동으로 채점하는 프로그램을 작성해보자.\n",
    ">1 / 5 의 값은? 0.2  \n",
    "맞았습니다.  \n",
    "7 + 5 의 값은? 12  \n",
    "맞았습니다.  "
   ]
  },
  {
   "cell_type": "code",
   "execution_count": 78,
   "id": "d9201527",
   "metadata": {},
   "outputs": [
    {
     "data": {
      "text/plain": [
       "(90, 28, '-')"
      ]
     },
     "execution_count": 78,
     "metadata": {},
     "output_type": "execute_result"
    }
   ],
   "source": [
    "import random\n",
    "x = random.randint(1, 100)\n",
    "y = random.randrange(1, 101)\n",
    "op = random.choice(['+', '-', '/', '*'])\n",
    "x, y, op"
   ]
  },
  {
   "cell_type": "code",
   "execution_count": 79,
   "id": "6f0d03b9",
   "metadata": {},
   "outputs": [
    {
     "data": {
      "text/plain": [
       "62"
      ]
     },
     "execution_count": 79,
     "metadata": {},
     "output_type": "execute_result"
    }
   ],
   "source": [
    "if op == '+': ans = x + y\n",
    "elif op == '-': ans = x - y\n",
    "elif op == '/': ans = x / y\n",
    "elif op == '*': ans = x * y\n",
    "ans"
   ]
  },
  {
   "cell_type": "code",
   "execution_count": 80,
   "id": "afa15c33",
   "metadata": {},
   "outputs": [
    {
     "name": "stdout",
     "output_type": "stream",
     "text": [
      "90 - 28의 값은? 62\n",
      "맞았습니다.\n"
     ]
    }
   ],
   "source": [
    "you = float(input(f'{x} {op} {y}의 값은? '))\n",
    "if round(ans, 2) == you:\n",
    "    print('맞았습니다.')\n",
    "else:\n",
    "    print('틀렸습니다.')"
   ]
  },
  {
   "cell_type": "markdown",
   "id": "5cb7ea74",
   "metadata": {},
   "source": [
    "#### 문제 10)\n",
    "다음과 같이 정의되는 함수의 함수값을 계산하여 보자. 사용자로부터 x값을 입력받아서 함수값을 계산하여 화면에 출력한다 x는 실수이다.\n",
    "$$f(x) = \\begin{cases}\n",
    "x^2-9x+2,\\;x\\leq0\\\\\n",
    "7x + 2,\\quad\\quad x>0\\end{cases}$$\n",
    "\n",
    "> x 의 값을 입력하시오 : 3.0  \n",
    "f(x) 으| 값은 23.000000"
   ]
  },
  {
   "cell_type": "code",
   "execution_count": 6,
   "id": "7416af19",
   "metadata": {},
   "outputs": [
    {
     "name": "stdout",
     "output_type": "stream",
     "text": [
      "x의 값을 입력하시오: 3.0\n"
     ]
    }
   ],
   "source": [
    "x = float(input('x의 값을 입력하시오: '))"
   ]
  },
  {
   "cell_type": "code",
   "execution_count": 7,
   "id": "dfa98295",
   "metadata": {},
   "outputs": [
    {
     "name": "stdout",
     "output_type": "stream",
     "text": [
      "23.0\n"
     ]
    }
   ],
   "source": [
    "fx = x**2 - 9*x + 2 if x <= 0 else 7 * x + 2\n",
    "print(fx)"
   ]
  },
  {
   "cell_type": "code",
   "execution_count": 8,
   "id": "e1eaf840",
   "metadata": {},
   "outputs": [
    {
     "name": "stdout",
     "output_type": "stream",
     "text": [
      "23.0\n"
     ]
    }
   ],
   "source": [
    "if x <= 0:\n",
    "    print(x**2 - 9*x + 2)\n",
    "else:\n",
    "    print(7 * x + 2)"
   ]
  },
  {
   "cell_type": "markdown",
   "id": "4aac4888",
   "metadata": {},
   "source": [
    "#### 문제 11)\n",
    "BMl(Body Mass Index)는 체중(kg)을 신장(m)의 제곱으로 나눈 값으로 체지방 축적을 잘 반영하기 때문에 비만도 판정에 많이 사용한다. 사용자로부터 신장과 체중을 입력받아서 BMI 값에 따라서 다음과 같은 메시지를 출력하는 프로그램을 작성하여 보자.  \n",
    "\n",
    "|BMI|메세지|  \n",
    "|:------:|:------|  \n",
    "|20 ~ 24.9|정상입니다.|  \n",
    "|25 ~ 29.9|과체중입니다.|  \n",
    "|30이상|비만입니다.|  \n",
    "\n",
    "> 무게(킬로그램): 86  \n",
    "키(미터): 1.83  \n",
    "당신의 BMI: 25.680074054167036  \n",
    "과체중입니다."
   ]
  },
  {
   "cell_type": "code",
   "execution_count": 14,
   "id": "805c5980",
   "metadata": {},
   "outputs": [
    {
     "name": "stdout",
     "output_type": "stream",
     "text": [
      "체중(Kg): 52\n",
      "키(m): 1.54\n",
      "BMI:  21.926125822229718\n",
      "정상입니다.\n"
     ]
    }
   ],
   "source": [
    "kg = int(input('체중(Kg): '))\n",
    "m = float(input('키(m): '))\n",
    "bmi = kg / m **2\n",
    "print('BMI: ', bmi)\n",
    "if bmi < 20: \n",
    "    print('저체중입니다.')\n",
    "elif bmi < 25:\n",
    "    print('정상입니다.')\n",
    "elif bmi <= 29.9:\n",
    "    print('과제중입니다.')\n",
    "else:\n",
    "    print('비만입니다.')"
   ]
  },
  {
   "cell_type": "markdown",
   "id": "14d8d9bf",
   "metadata": {},
   "source": [
    "#### 문제 12)\n",
    "연도를 입력하면 띠를 출력하는 프로그램을 작성해보자. 띠는 연도를 12로 나누어서 결정된다. 나머지가 0 이면 원숭이띠, 1 이면 닭띠 2 이면 개띠 , ... 11 이면 앙띠이다.\n",
    "> 연도를 입력하시오: 1980  \n",
    "양띠입니다."
   ]
  },
  {
   "cell_type": "code",
   "execution_count": null,
   "id": "19963a64",
   "metadata": {},
   "outputs": [],
   "source": [
    "year = int(input('연도를 입력하세요: '))"
   ]
  },
  {
   "cell_type": "code",
   "execution_count": 58,
   "id": "bbb79fed",
   "metadata": {},
   "outputs": [
    {
     "name": "stdout",
     "output_type": "stream",
     "text": [
      "토끼 띠입니다.\n"
     ]
    }
   ],
   "source": [
    "# if문 사용\n",
    "if year % 12 == 0:\n",
    "    print('원수이 띠입니다.')\n",
    "elif year % 12 == 1: \n",
    "    print('닭 띠입니다.')\n",
    "elif year % 12 == 2: \n",
    "    print('강아지 띠입니다.')\n",
    "elif year % 12 == 3: \n",
    "    print('돼지 띠입니다.')\n",
    "elif year % 12 == 4: \n",
    "    print('쥐 띠입니다.')\n",
    "elif year % 12 == 5: \n",
    "    print('소 띠입니다.')\n",
    "elif year % 12 == 6: \n",
    "    print('호랑이 띠입니다.')\n",
    "elif year % 12 == 7: \n",
    "    print('토끼 띠입니다.')\n",
    "elif year % 12 == 8: \n",
    "    print('용 띠입니다.')\n",
    "elif year % 12 == 9: \n",
    "    print('뱀 띠입니다.')\n",
    "elif year % 12 == 10:\n",
    "    print('소 띠입니다.')\n",
    "else:\n",
    "    print('양 띠입니다.')"
   ]
  },
  {
   "cell_type": "code",
   "execution_count": 59,
   "id": "7ac626df",
   "metadata": {},
   "outputs": [
    {
     "name": "stdout",
     "output_type": "stream",
     "text": [
      "토끼 띠 입니다\n"
     ]
    }
   ],
   "source": [
    "# if 문 사용 X\n",
    "zodiac = ['원숭이 띠', '닭 띠', '강아지 띠', '돼지 띠', '쥐 띠', '소 띠', '호랑이 띠', '토끼 띠', '용 띠', '뱀 띠', '소 띠', '양 띠']\n",
    "print(zodiac[year % 12], '입니다')"
   ]
  },
  {
   "cell_type": "markdown",
   "id": "d494199d",
   "metadata": {},
   "source": [
    "#### 문제 13)\n",
    "윤년은 2월달이 29일 까지 있는 연도이다. 연도가 4로 나누어지지만 100으로 나누어지지 않거나 또는 연도가 400으로 나누어 떨어지면 윤년이다 사용자가 연도를 입력하면 윤년을 판별할 수 있는 프로그램을 작성하라.\n",
    "> 연도를 입력하시오: 2020  \n",
    "윤년입니다.  "
   ]
  },
  {
   "cell_type": "code",
   "execution_count": 61,
   "id": "0f722e15",
   "metadata": {},
   "outputs": [
    {
     "name": "stdout",
     "output_type": "stream",
     "text": [
      "평년입니다.\n"
     ]
    }
   ],
   "source": [
    "if ((year % 4 == 0) & (year % 100 != 0)) | (year % 400 == 0):\n",
    "    print('윤년입니다.')\n",
    "else:\n",
    "    print('평년입니다.')"
   ]
  },
  {
   "cell_type": "code",
   "execution_count": 62,
   "id": "5e20c9b7",
   "metadata": {},
   "outputs": [
    {
     "name": "stdout",
     "output_type": "stream",
     "text": [
      "평년입니다.\n"
     ]
    }
   ],
   "source": [
    "# 조건부 표현식\n",
    "print('윤년입니다.') if ((year % 4 == 0) & (year % 100 != 0)) | (year % 400 == 0) else print('평년입니다.')"
   ]
  },
  {
   "cell_type": "markdown",
   "id": "84d8886d",
   "metadata": {},
   "source": [
    "#### 문제 14)\n",
    "사용자가 2차 방정식의 각 계수를 입력하면 2차 방정식의 근을 계산하여서 출력하는 프로그램을 작성한다. 2차 방정식의 판별식을 먼저 계산하여서 하나의 실근을 가지는지. 2개의 실근을 갖는지. 실근이 존재하지 않는지를 먼저 출력하라.\n",
    "> a를 입력하시오: 2  \n",
    "b를 입력하시오: -7  \n",
    "C를 입력하시오 : 5  \n",
    "실근은 1.000000과  2.500000 입니다."
   ]
  },
  {
   "cell_type": "code",
   "execution_count": 67,
   "id": "63d45f21",
   "metadata": {},
   "outputs": [
    {
     "name": "stdout",
     "output_type": "stream",
     "text": [
      "a를 입력하시오: 2\n",
      "b를 입력하시오: -7\n",
      "c를 입력하시오: 5\n",
      "실근은  1.0 과(와)  2.5 입니다.\n"
     ]
    }
   ],
   "source": [
    "import math\n",
    "a = int(input('a를 입력하시오: '))\n",
    "b = int(input('b를 입력하시오: '))\n",
    "c = int(input('c를 입력하시오: '))\n",
    "discriminant = b ** 2 - 4 * a * c\n",
    "if discriminant > 0:\n",
    "    print('실근은 ', (-b - math.sqrt(discriminant))/(2*a), '과(와) ', (-b + math.sqrt(discriminant))/(2*a), '입니다.')\n",
    "elif discriminant == 0:\n",
    "    print('실근은 ', -b/(2*a), '입니다')\n",
    "else:\n",
    "    print('실근이 존재하지 않습니다.')"
   ]
  },
  {
   "cell_type": "markdown",
   "id": "438caaa3",
   "metadata": {},
   "source": [
    "#### 문제 15)\n",
    "사용자로부터 정수를 받아서 3의 배수이면 \"Python\"를 출력한다. 만약 5의 배수이면 \"Express\"을 출력한다. 만약 3의 배수이면서 동시에 5의 배수이면 \"Python Express\"를 출력한다.\n",
    "> 정수를 입력하시오: 3  \n",
    "Python  \n",
    "정수를 입력하시오: 5  \n",
    "Express  "
   ]
  },
  {
   "cell_type": "code",
   "execution_count": 19,
   "id": "9af47cb6",
   "metadata": {},
   "outputs": [
    {
     "name": "stdout",
     "output_type": "stream",
     "text": [
      "정수를 입력하시오: 15\n",
      "Python Express\n"
     ]
    }
   ],
   "source": [
    "num = int(input('정수를 입력하시오: '))\n",
    "if num % 15 == 0:\n",
    "    print('Python Express')\n",
    "elif num % 3 == 0:\n",
    "    print('Python')\n",
    "elif num % 5 == 0:\n",
    "    print('Express')"
   ]
  },
  {
   "cell_type": "code",
   "execution_count": 20,
   "id": "9da6f038",
   "metadata": {},
   "outputs": [
    {
     "name": "stdout",
     "output_type": "stream",
     "text": [
      "Python\n"
     ]
    }
   ],
   "source": [
    "# 15의 배수를 입력해도 'Python Express'가 아닌 'Python'이 나옴 \n",
    "if num % 3 == 0:\n",
    "    print('Python')\n",
    "elif num % 5 == 0:\n",
    "    print('Express')\n",
    "elif num % 15 == 0:\n",
    "    print('Python Express')    "
   ]
  },
  {
   "attachments": {
    "image.png": {
     "image/png": "[encoded data removed]"
    }
   },
   "cell_type": "markdown",
   "id": "494ec594",
   "metadata": {},
   "source": [
    "#### 문제 16)\n",
    "사용자로부터 PH 농도를 받아서 \"알칼리\", \"산\", \"중성\"으로 나누어서 출력하는 프로그램을 작성하라. \n",
    "![image.png](attachment:image.png)\n",
    "> PH를 입력하시오: 9.0  \n",
    "알칼리입니다."
   ]
  },
  {
   "cell_type": "code",
   "execution_count": 11,
   "id": "e380c3f4",
   "metadata": {},
   "outputs": [
    {
     "name": "stdout",
     "output_type": "stream",
     "text": [
      "PH를 입력하시오: 7.5\n",
      "중성입니다.\n"
     ]
    }
   ],
   "source": [
    "ph = float(input('PH를 입력하시오: '))\n",
    "if ph < 7:\n",
    "    print('산성입니다.')\n",
    "elif ph >= 8:\n",
    "    print('알칼리입니다.')\n",
    "else:\n",
    "    print('중성입니다.')"
   ]
  },
  {
   "cell_type": "code",
   "execution_count": null,
   "id": "72067cfa",
   "metadata": {},
   "outputs": [],
   "source": []
  }
 ],
 "metadata": {
  "kernelspec": {
   "display_name": "Python 3",
   "language": "python",
   "name": "python3"
  },
  "language_info": {
   "codemirror_mode": {
    "name": "ipython",
    "version": 3
   },
   "file_extension": ".py",
   "mimetype": "text/x-python",
   "name": "python",
   "nbconvert_exporter": "python",
   "pygments_lexer": "ipython3",
   "version": "3.11.1"
  },
  "vscode": {
   "interpreter": {
    "hash": "d417a21d97a2e6b8832d21dc44f5cbe4be6e18325f874a8bb8484565b928cd54"
   }
  }
 },
 "nbformat": 4,
 "nbformat_minor": 5
}
