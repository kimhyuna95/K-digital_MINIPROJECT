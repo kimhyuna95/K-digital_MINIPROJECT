{
 "cells": [
  {
   "cell_type": "code",
   "execution_count": 2,
   "metadata": {},
   "outputs": [
    {
     "name": "stdout",
     "output_type": "stream",
     "text": [
      "2 4 6 8 10 12 14 16 18 20 22 24 26 28 30 32 34 36 38 40 42 44 46 48 50 \n"
     ]
    }
   ],
   "source": [
    "# 1) 2부터 50사이의 모든 짝수를 출력하는 반복 루프를 작성\n",
    "for i in range(2,51,2):\n",
    "    print(i, end=' ')\n",
    "print()"
   ]
  },
  {
   "cell_type": "code",
   "execution_count": 23,
   "metadata": {},
   "outputs": [
    {
     "name": "stdout",
     "output_type": "stream",
     "text": [
      "[2, 4, 6, 8, 10, 12, 14, 16, 18, 20, 22, 24, 26, 28, 30, 32, 34, 36, 38, 40, 42, 44, 46, 48, 50]\n"
     ]
    }
   ],
   "source": [
    "# 1) - 리스트 컴프리헨션\n",
    "a = [i for i in range(2,51,2)]\n",
    "print(a)"
   ]
  },
  {
   "cell_type": "code",
   "execution_count": 9,
   "metadata": {},
   "outputs": [
    {
     "name": "stdout",
     "output_type": "stream",
     "text": [
      "2 4 6 8 10 12 14 16 18 20 22 24 26 28 30 32 34 36 38 40 42 44 46 48 50 \n"
     ]
    }
   ],
   "source": [
    "# 1) - while\n",
    "\n",
    "i=1\n",
    "while i<=50:\n",
    "    if i%2==0:\n",
    "        print(i,end=' ')\n",
    "    i+=1\n",
    "print()"
   ]
  },
  {
   "cell_type": "code",
   "execution_count": 18,
   "metadata": {},
   "outputs": [
    {
     "name": "stdout",
     "output_type": "stream",
     "text": [
      "364\n"
     ]
    }
   ],
   "source": [
    "# 2) 리스트에 저장된 정수들의 합을 계산하는 프로그램을 작성하고 sum()은 쓰지말기\n",
    "myList=[11,22,23,99,81,93,35]\n",
    "\n",
    "total = 0\n",
    "\n",
    "for i in myList:\n",
    "    total=i+total\n",
    "print(total)"
   ]
  },
  {
   "cell_type": "code",
   "execution_count": 17,
   "metadata": {},
   "outputs": [
    {
     "name": "stdout",
     "output_type": "stream",
     "text": [
      "364\n"
     ]
    }
   ],
   "source": [
    "# 2) - while문\n",
    "myList=[11,22,23,99,81,93,35]\n",
    "\n",
    "idx=0\n",
    "total=0\n",
    "\n",
    "while idx <= len(myList)-1:\n",
    "    total=total+myList[idx]\n",
    "    idx+=1\n",
    "\n",
    "print(total)\n",
    "    \n",
    "    "
   ]
  },
  {
   "cell_type": "code",
   "execution_count": 24,
   "metadata": {},
   "outputs": [
    {
     "name": "stdout",
     "output_type": "stream",
     "text": [
      "1683\n"
     ]
    }
   ],
   "source": [
    "# 3) 1~100 사이의 모든 3의 배수의 합을 계산하여 출력하는 프로그램을 반복구조를 사용하여\n",
    "# 작성하시오\n",
    "total = 0\n",
    "for i in range(1,101):\n",
    "    if i%3 ==0:\n",
    "        total+=i\n",
    "\n",
    "print(total)\n"
   ]
  },
  {
   "cell_type": "code",
   "execution_count": 28,
   "metadata": {},
   "outputs": [
    {
     "name": "stdout",
     "output_type": "stream",
     "text": [
      "1683\n"
     ]
    }
   ],
   "source": [
    "# 3) - while \n",
    "i =0\n",
    "total = 0\n",
    "while i <=100:\n",
    "    if i%3==0:\n",
    "        total+=i\n",
    "    \n",
    "    i+=1\n",
    "print(total)"
   ]
  },
  {
   "cell_type": "code",
   "execution_count": 30,
   "metadata": {},
   "outputs": [
    {
     "name": "stdout",
     "output_type": "stream",
     "text": [
      "1 2 3 4 5 6 10 12 15 20 30 60 \n"
     ]
    }
   ],
   "source": [
    "# 4) 사용자가 입력한 정수의 모든 약수를 화면에 출력하는 프로그램 작성\n",
    "user=int(input('정수를 입력하시오 : '))\n",
    "\n",
    "for i in range(1,user+1):\n",
    "    if user%i ==0:\n",
    "        print(i,end=' ')\n",
    "    i+=1 \n",
    "print()"
   ]
  },
  {
   "cell_type": "code",
   "execution_count": 32,
   "metadata": {},
   "outputs": [
    {
     "name": "stdout",
     "output_type": "stream",
     "text": [
      "1 2 3 4 5 6 10 12 15 20 30 60 \n"
     ]
    }
   ],
   "source": [
    "# 4) - while\n",
    "user=int(input('정수를 입력하시오 : '))\n",
    "\n",
    "i=1\n",
    "\n",
    "while i<= 60:\n",
    "    if 60%i == 0:\n",
    "        print(i, end=' ')\n",
    "    i+=1\n",
    "print()\n"
   ]
  },
  {
   "cell_type": "code",
   "execution_count": 3,
   "metadata": {},
   "outputs": [
    {
     "name": "stdout",
     "output_type": "stream",
     "text": [
      "1 \n",
      "1 2 \n",
      "1 2 3 \n",
      "1 2 3 4 \n",
      "1 2 3 4 5 \n"
     ]
    }
   ],
   "source": [
    "# 5) 중첩 반복문을 사용하여 다음과 같이 출력하라\n",
    "user=int(input('정수를 입력하시오 : '))\n",
    "for i in range(1,user+1):\n",
    "    for j in range(1,i+1):\n",
    "        print(j, end=' ')\n",
    "    print()"
   ]
  },
  {
   "cell_type": "code",
   "execution_count": 2,
   "metadata": {},
   "outputs": [],
   "source": [
    "# 6) 0도 부터 90도까지 10도 간격으로 sin값고 cos값을 출력하는\n",
    "# 프로그램을짜라\n",
    "\n"
   ]
  },
  {
   "cell_type": "code",
   "execution_count": 4,
   "metadata": {},
   "outputs": [],
   "source": [
    "# 7) 생략 이게뭐람 9 13 12 18 "
   ]
  },
  {
   "cell_type": "code",
   "execution_count": 10,
   "metadata": {},
   "outputs": [
    {
     "name": "stdout",
     "output_type": "stream",
     "text": [
      "23\n"
     ]
    }
   ],
   "source": [
    "# 8) while 루프를 이용하여 (n*n > 500) 가장 작은 n을 찾는 프로그램\n",
    "n=0\n",
    "while True:\n",
    "    if n*n>500:\n",
    "        break   \n",
    "    n+=1\n",
    "print(n)        \n",
    "    \n"
   ]
  },
  {
   "cell_type": "code",
   "execution_count": 13,
   "metadata": {},
   "outputs": [
    {
     "name": "stdout",
     "output_type": "stream",
     "text": [
      "385\n"
     ]
    }
   ],
   "source": [
    "# 10) \n",
    "num=int(input('n의 값을 입력하시오'))\n",
    "\n",
    "i=0\n",
    "sum=0\n",
    "while i <=num:\n",
    "   sum=sum + i*i\n",
    "   i+=1\n",
    "\n",
    "print(sum)"
   ]
  },
  {
   "cell_type": "code",
   "execution_count": 14,
   "metadata": {},
   "outputs": [
    {
     "name": "stdout",
     "output_type": "stream",
     "text": [
      "최대공약수 :  3\n"
     ]
    }
   ],
   "source": [
    "# 11) \n",
    "first = int(input(\"첫번째 정수를 입력하시오: \"))\n",
    "second = int(input(\"첫번째 정수를 입력하시오: \"))\n",
    "\n",
    "mini = min(first, second)\n",
    "\n",
    "for first in range(1, mini+1):\n",
    "    if (first%mini==0) and (second%mini==0):\n",
    "        ans=mini\n",
    "print(\"최대공약수 : \", mini)"
   ]
  },
  {
   "cell_type": "code",
   "execution_count": 16,
   "metadata": {},
   "outputs": [
    {
     "name": "stdout",
     "output_type": "stream",
     "text": [
      "0 1 1 2 3 5 8 13 21 34 55 "
     ]
    }
   ],
   "source": [
    "# 13) 피보나치 수열\n",
    "num = int(input('몇 번째 항까지 구할까'))\n",
    "num1=0\n",
    "num2=1\n",
    "count = 0\n",
    "\n",
    "while count <= num:\n",
    "    print(num1, end=' ')\n",
    "    ans= num1 + num2\n",
    "    num1 = num2\n",
    "    num2 = ans\n",
    "    count+=1"
   ]
  },
  {
   "cell_type": "code",
   "execution_count": 22,
   "metadata": {},
   "outputs": [
    {
     "name": "stdout",
     "output_type": "stream",
     "text": [
      "3\n",
      "5\n",
      "7\n",
      "9\n",
      "11\n",
      "13\n",
      "15\n",
      "17\n",
      "19\n"
     ]
    }
   ],
   "source": [
    "# 14) 소수 구하기\n",
    "n=2\n",
    "while n <=20:\n",
    "    if n%2 !=0:\n",
    "        print(n)\n",
    "    n+=1"
   ]
  },
  {
   "cell_type": "code",
   "execution_count": 24,
   "metadata": {},
   "outputs": [
    {
     "name": "stdout",
     "output_type": "stream",
     "text": [
      "46.10464832285218\n"
     ]
    }
   ],
   "source": [
    "# 15) 수열의 합을 구하는 프로그램 작성\n",
    "n=1\n",
    "ans = 0\n",
    "while n<100:\n",
    "    ans = ans + (n/(n+2))\n",
    "    n+=2\n",
    "print(ans)"
   ]
  },
  {
   "cell_type": "code",
   "execution_count": 30,
   "metadata": {},
   "outputs": [
    {
     "name": "stdout",
     "output_type": "stream",
     "text": [
      "--- --- --- \n",
      " :  :  :  : \n",
      "--- --- --- \n",
      " :  :  :  : \n",
      "--- --- --- \n",
      " :  :  :  : \n",
      "--- --- --- \n"
     ]
    }
   ],
   "source": [
    "# 16) 게임판 ???\n",
    "for i in range(7):\n",
    "    if i%2 ==0:\n",
    "        print('--- '*3)\n",
    "    else:\n",
    "        print(' : '*4)"
   ]
  },
  {
   "cell_type": "code",
   "execution_count": 38,
   "metadata": {},
   "outputs": [
    {
     "name": "stdout",
     "output_type": "stream",
     "text": [
      "fizz\n",
      "*\n",
      "*\n",
      "fizz\n",
      "*\n",
      "buzz\n",
      "fizz\n",
      "*\n",
      "*\n",
      "fizz\n"
     ]
    }
   ],
   "source": [
    "# 17) \n",
    "for i in range(10):\n",
    "    if i%3==0:\n",
    "        print('fizz')\n",
    "    elif i%5==0:\n",
    "        print('buzz')\n",
    "    elif (i%3==0) and (i%5==0):\n",
    "        print('fizzbuzz')\n",
    "    else:\n",
    "        print('*')"
   ]
  },
  {
   "cell_type": "code",
   "execution_count": null,
   "metadata": {},
   "outputs": [],
   "source": []
  }
 ],
 "metadata": {
  "kernelspec": {
   "display_name": "Python 3",
   "language": "python",
   "name": "python3"
  },
  "language_info": {
   "codemirror_mode": {
    "name": "ipython",
    "version": 3
   },
   "file_extension": ".py",
   "mimetype": "text/x-python",
   "name": "python",
   "nbconvert_exporter": "python",
   "pygments_lexer": "ipython3",
   "version": "3.11.1"
  },
  "orig_nbformat": 4
 },
 "nbformat": 4,
 "nbformat_minor": 2
}
