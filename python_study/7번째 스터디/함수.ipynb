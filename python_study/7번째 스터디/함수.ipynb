{
 "cells": [
  {
   "cell_type": "code",
   "execution_count": 11,
   "metadata": {},
   "outputs": [],
   "source": [
    "import math\n"
   ]
  },
  {
   "cell_type": "code",
   "execution_count": 12,
   "metadata": {},
   "outputs": [],
   "source": [
    "# 1) 원의 둘레를 계산하는 함수\n",
    "def get_peri(radius=5.0):\n",
    "    a = radius*2*math.pi\n",
    "    return a"
   ]
  },
  {
   "cell_type": "code",
   "execution_count": 13,
   "metadata": {},
   "outputs": [
    {
     "data": {
      "text/plain": [
       "(31.41592653589793, 25.132741228718345)"
      ]
     },
     "execution_count": 13,
     "metadata": {},
     "output_type": "execute_result"
    }
   ],
   "source": [
    "get_peri(), get_peri(4.0)"
   ]
  },
  {
   "cell_type": "code",
   "execution_count": 14,
   "metadata": {},
   "outputs": [
    {
     "name": "stdout",
     "output_type": "stream",
     "text": [
      "2 + 3 = 5\n",
      "2 - 3 = -1\n",
      "2 * 3 = 6\n",
      "2 / 3 = 0.6666666666666666\n"
     ]
    },
    {
     "data": {
      "text/plain": [
       "(None, None, None, None)"
      ]
     },
     "execution_count": 14,
     "metadata": {},
     "output_type": "execute_result"
    }
   ],
   "source": [
    "# 2) 덧셈, 뺄셈, 곱셈, 나눗셈 수행하는 함수\n",
    "first = int(input('첫 번째 정수를 입력하시오 :'))\n",
    "second = int(input('두 번째 정수를 입력하시오 :'))\n",
    "\n",
    "def cal1(a,b):\n",
    "    print(f'{a} + {b} = {a+b}')\n",
    "\n",
    "def cal2(a,b):\n",
    "    print(f'{a} - {b} = {a-b}')\n",
    "\n",
    "def cal3(a,b):\n",
    "    print(f'{a} * {b} = {a*b}')\n",
    "\n",
    "def cal4(a,b):\n",
    "    if b==0:\n",
    "        print('0으로는 나눠 줄수 없어')\n",
    "    else:\n",
    "        print(f'{a} / {b} = {a/b}')\n",
    "\n",
    "cal1(first, second), cal2(first, second), cal3(first, second), cal4(first, second)\n"
   ]
  },
  {
   "cell_type": "code",
   "execution_count": 15,
   "metadata": {},
   "outputs": [
    {
     "name": "stdout",
     "output_type": "stream",
     "text": [
      "2 + 3 = 5\n",
      "2 - 3 = -1\n",
      "2 * 3 = 6\n",
      "2 / 3 = 0.6666666666666666\n"
     ]
    },
    {
     "data": {
      "text/plain": [
       "(None, None, None, None)"
      ]
     },
     "execution_count": 15,
     "metadata": {},
     "output_type": "execute_result"
    }
   ],
   "source": [
    "# 3)\n",
    "def calc(a,b):\n",
    "    return cal1(a,b), cal2(a,b), cal3(a,b), cal4(a,b)\n",
    "\n",
    "calc(first, second)\n"
   ]
  },
  {
   "cell_type": "code",
   "execution_count": 16,
   "metadata": {},
   "outputs": [
    {
     "name": "stdout",
     "output_type": "stream",
     "text": [
      "성적은 F 입니다\n"
     ]
    }
   ],
   "source": [
    "# 4) 성적이 90이상이면 A, 80 B, 70 C, 60 D, 그외는 F\n",
    "def getGrade(score):\n",
    "    if score >= 90:\n",
    "        print('성적은 A 입니다')\n",
    "    elif score >=80:\n",
    "        print('성적은 B 입니다')\n",
    "    elif score >=70:\n",
    "        print('성적은 C 입니다')\n",
    "    elif score >=60:\n",
    "        print('성적은 D 입니다')\n",
    "    else:\n",
    "        print('성적은 F 입니다')\n",
    "score = int(input('점수를 입력하세요 : '))\n",
    "\n",
    "getGrade(score)"
   ]
  },
  {
   "cell_type": "code",
   "execution_count": 17,
   "metadata": {},
   "outputs": [],
   "source": [
    "# 5) 패스워드에 8글자 이상들어가고 \n",
    "# 1글자의 대문자와 소문자가 들어가야하는 함수\n",
    "def checkPass(p):\n",
    "    isuppers=0\n",
    "    islowers=0\n",
    "    isdigits=0\n",
    "    if len(p) >=8:\n",
    "        for i in p:\n",
    "        \n",
    "            if i.isupper():\n",
    "                isuppers=isuppers+1\n",
    "            elif i.islower():\n",
    "                islowers=islowers+1\n",
    "            elif i.isdigit():\n",
    "                isdigits=isdigits+1\n",
    "    else:\n",
    "            print('8글자 이상을 입력해주세요')\n",
    "            \n",
    "    if (((isuppers >0) and (isdigits >0)) and (islowers >0)):\n",
    "        print('사용할 수 있습니다')\n",
    "    else:\n",
    "        print('사용 할 수 없습니다. 다시입력하세요')"
   ]
  },
  {
   "cell_type": "code",
   "execution_count": 18,
   "metadata": {},
   "outputs": [
    {
     "name": "stdout",
     "output_type": "stream",
     "text": [
      "8글자 이상을 입력해주세요\n",
      "사용 할 수 없습니다. 다시입력하세요\n"
     ]
    }
   ],
   "source": [
    "a=input('8글자 이상 숫자, 대, 소 문자를 포함한 패스워드를 입력 하시오')\n",
    "checkPass(a)"
   ]
  },
  {
   "cell_type": "code",
   "execution_count": 19,
   "metadata": {},
   "outputs": [
    {
     "name": "stdout",
     "output_type": "stream",
     "text": [
      "땡 정답은 1.0고 너는 3.0라니 저런 틀렸어 돌아가\n"
     ]
    }
   ],
   "source": [
    "# 6) 사용자로부터 2개의 정수를 받아서 수학문제 만들기\n",
    "import random\n",
    "first=input('첫 번째 정수를 입력하시오 :')\n",
    "second=input('두 번째 정수를 입력하시오 :')\n",
    "def math_test(a, b):\n",
    "    cal=random.randint(1,4)\n",
    "    \n",
    "    if cal == 1:\n",
    "        calc_num = a + '+' + b\n",
    "    elif cal == 2:\n",
    "        calc_num = a + '-' + b\n",
    "    elif cal == 3:\n",
    "        calc_num = a + '*' + b\n",
    "    elif cal == 4:\n",
    "        calc_num = a + '/' + b\n",
    "    return calc_num\n",
    "\n",
    "c=math_test(first, second)\n",
    "\n",
    "student = input (f'{c} 답을 입력하세요 : ')\n",
    "student = float(student)\n",
    "\n",
    "answer = round(eval(c),2)\n",
    "\n",
    "if answer == student:\n",
    "    print(f'{answer} 정답입니다.')\n",
    "else:\n",
    "    print(f'땡 정답은 {answer}고 너는 {student}라니 저런 틀렸어 돌아가')"
   ]
  },
  {
   "cell_type": "code",
   "execution_count": null,
   "metadata": {},
   "outputs": [],
   "source": []
  },
  {
   "cell_type": "code",
   "execution_count": 20,
   "metadata": {},
   "outputs": [
    {
     "name": "stdout",
     "output_type": "stream",
     "text": [
      "3\n"
     ]
    }
   ],
   "source": [
    "# 9) 두개의 정수 입력받아서 최대 공약수 찾기\n",
    "num1=input('1번째 수 입력')\n",
    "num2=input('2번째 수 입력')\n",
    "\n",
    "def __math(a,b):\n",
    "    a=int(a)\n",
    "    b=int(b)\n",
    "    result =[]\n",
    "    for i in range(1,a+1):\n",
    "        if (a % i ==0) and (b % i ==0):\n",
    "            result.append(i)\n",
    "    ans=max(result)\n",
    "    print(ans)\n",
    "\n",
    "__math(num1,num2)\n",
    "\n",
    "            "
   ]
  },
  {
   "cell_type": "code",
   "execution_count": 37,
   "metadata": {},
   "outputs": [
    {
     "name": "stdout",
     "output_type": "stream",
     "text": [
      "[1, 2, 3, 5, 7, 11, 13, 17, 19, 23, 29, 31, 37, 41, 43, 47, 53, 59, 61, 67, 71, 73, 79, 83, 89, 97] 26\n"
     ]
    }
   ],
   "source": [
    "# 10) 주어진 정수가 소수인지 검사하는 함수\n",
    "#### 이거는 예전에 만든거 보고 그대로 씀\n",
    "def testPrime(n):\n",
    "    primes=[]\n",
    "    count = 0\n",
    "    for i in range(1,n+1):\n",
    "        ischeck = True\n",
    "        \n",
    "        for j in range(2,i):\n",
    "            if i%j==0:\n",
    "                ischeck=False\n",
    "                break\n",
    "        if ischeck:\n",
    "            primes.append(i)\n",
    "            count+=1\n",
    "    print(primes, count)\n",
    "        \n",
    "testPrime(100)"
   ]
  }
 ],
 "metadata": {
  "kernelspec": {
   "display_name": "Python 3",
   "language": "python",
   "name": "python3"
  },
  "language_info": {
   "codemirror_mode": {
    "name": "ipython",
    "version": 3
   },
   "file_extension": ".py",
   "mimetype": "text/x-python",
   "name": "python",
   "nbconvert_exporter": "python",
   "pygments_lexer": "ipython3",
   "version": "3.11.1"
  },
  "orig_nbformat": 4
 },
 "nbformat": 4,
 "nbformat_minor": 2
}
