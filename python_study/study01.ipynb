{
 "cells": [
  {
   "cell_type": "code",
   "execution_count": 2,
   "metadata": {},
   "outputs": [
    {
     "name": "stdout",
     "output_type": "stream",
     "text": [
      "약수입니다.\n"
     ]
    }
   ],
   "source": [
    "x=int(input(\"정수를 입력하시오: \"))\n",
    "y=int(input(\"정수를 입력하시오: \"))\n",
    "\n",
    "def cal(x,y):\n",
    "    if x%y==0:\n",
    "        print(\"약수입니다.\")\n",
    "    elif x==0:\n",
    "        print(\"0이외의 정수를 입력하세요.\")\n",
    "    else:\n",
    "        print(f\"{y}는 {x}의 약수가 아닙니다.\")    \n",
    "cal()"
   ]
  },
  {
   "cell_type": "code",
   "execution_count": null,
   "metadata": {},
   "outputs": [],
   "source": [
    "x=int(input(\"현재 온도를 입력하시오: \"))\n",
    "if x>=25:\n",
    "    print(\"반바지를 추천합니다.\")\n",
    "else:\n",
    "    print(\"긴바지를 추천합니다.\") "
   ]
  },
  {
   "cell_type": "code",
   "execution_count": 2,
   "metadata": {},
   "outputs": [
    {
     "name": "stdout",
     "output_type": "stream",
     "text": [
      "Circle\n"
     ]
    }
   ],
   "source": [
    "x= input(\"문자를 입력하시오: \")\n",
    "\n",
    "if x== \"R\" or x== \"r\":\n",
    "    print(\"Rectangle\")\n",
    "elif x== \"T\" or x== \"t\":\n",
    "    print(\"Triangle\")\n",
    "elif x==\"C\" or x== \"c\":\n",
    "    print(\"Circle\")\n",
    "else:\n",
    "    print(\"Unknown\")"
   ]
  },
  {
   "cell_type": "code",
   "execution_count": 3,
   "metadata": {},
   "outputs": [
    {
     "name": "stdout",
     "output_type": "stream",
     "text": [
      "12.56\n"
     ]
    }
   ],
   "source": [
    "x = int(input(\"반지름을 입력하시오: \"))\n",
    "if x<0:\n",
    "    print(\"잘못된 값입니다.\")\n",
    "else:\n",
    "    print(x*x*3.14)"
   ]
  },
  {
   "cell_type": "code",
   "execution_count": 11,
   "metadata": {},
   "outputs": [
    {
     "name": "stdout",
     "output_type": "stream",
     "text": [
      "제일 작은 정수는 0 입니다.\n"
     ]
    }
   ],
   "source": [
    "x=(input(\"3개의 정수를 입력하시오: \")).split(' ') # int로 변환시 리스트로 받는 방법은?\n",
    "if x[0]>x[1]:\n",
    "    if x[1]<x[2]:\n",
    "        print(f'제일 작은 정수는 {x[1]} 입니다.')\n",
    "    elif x[1]>x[2]:\n",
    "        print(f'제일 작은 정수는 {x[2]} 입니다.')\n",
    "elif x[0]<x[1]:\n",
    "    if x[0]<x[2]:\n",
    "        print(f'제일 작은 정수는 {x[0]} 입니다.')\n",
    "    elif x[0]>x[2]:\n",
    "        print(f'제일 작은 정수는 {x[2]} 입니다.')"
   ]
  },
  {
   "cell_type": "code",
   "execution_count": 13,
   "metadata": {},
   "outputs": [
    {
     "name": "stdout",
     "output_type": "stream",
     "text": [
      "죄송합니다.\n"
     ]
    }
   ],
   "source": [
    "height= int(input(\"키를 입력하시오(cm): \"))\n",
    "age= input(\"나이를 입력하시오: \")\n",
    "if height>=140 and age>=10:\n",
    "    print(\"타도 좋습니다.\")\n",
    "else:\n",
    "    print(\"죄송합니다.\")"
   ]
  },
  {
   "cell_type": "code",
   "execution_count": 6,
   "metadata": {},
   "outputs": [
    {
     "name": "stdout",
     "output_type": "stream",
     "text": [
      "과체중입니다.\n"
     ]
    }
   ],
   "source": [
    "x= list(map(int,input(\"체중과 키를 입력하시오: \").split(' ')))\n",
    "if x[1]>(x[0]-100)*0.9:\n",
    "    print(\"과체중입니다.\")\n",
    "elif x[1]<(x[0]-100)*0.9:\n",
    "    print(\"저체중입니다.\")\n",
    "else:\n",
    "    print(\"표준입니다.\")\n"
   ]
  },
  {
   "cell_type": "code",
   "execution_count": null,
   "metadata": {},
   "outputs": [],
   "source": []
  },
  {
   "cell_type": "code",
   "execution_count": null,
   "metadata": {},
   "outputs": [],
   "source": []
  }
 ],
 "metadata": {
  "kernelspec": {
   "display_name": "base",
   "language": "python",
   "name": "python3"
  },
  "language_info": {
   "codemirror_mode": {
    "name": "ipython",
    "version": 3
   },
   "file_extension": ".py",
   "mimetype": "text/x-python",
   "name": "python",
   "nbconvert_exporter": "python",
   "pygments_lexer": "ipython3",
   "version": "3.9.15"
  },
  "orig_nbformat": 4,
  "vscode": {
   "interpreter": {
    "hash": "8941ceac43035fd3909e844b17732c2263c12a200f231b2b20cd1560d52498bb"
   }
  }
 },
 "nbformat": 4,
 "nbformat_minor": 2
}
