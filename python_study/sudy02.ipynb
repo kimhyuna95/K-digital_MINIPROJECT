{
 "cells": [
  {
   "cell_type": "code",
   "execution_count": 8,
   "metadata": {},
   "outputs": [
    {
     "data": {
      "text/plain": [
       "25.12"
      ]
     },
     "execution_count": 8,
     "metadata": {},
     "output_type": "execute_result"
    }
   ],
   "source": [
    "def get_peri(i=5):\n",
    "   return i*2*3.14\n",
    "get_peri()\n",
    "get_peri(4)\n"
   ]
  },
  {
   "cell_type": "code",
   "execution_count": 12,
   "metadata": {},
   "outputs": [
    {
     "name": "stdout",
     "output_type": "stream",
     "text": [
      "(10+20)=30\n",
      "(10-20)=-10\n",
      "(10*20)=200\n",
      "(10/20)=0.5\n"
     ]
    }
   ],
   "source": [
    "def add():\n",
    "    a= int(input(\"첫 번째 정수를 입력하시오: \"))\n",
    "    b= int(input(\"두 번째 정수를 입력하시오: \"))\n",
    "    add= print(f'({a}+{b})={a+b}')\n",
    "    sub= print(f'({a}-{b})={a-b}')\n",
    "    multi = print(f'({a}*{b})={a*b}')\n",
    "    div= print(f'({a}/{b})={a/b}')\n",
    "add()\n"
   ]
  },
  {
   "cell_type": "code",
   "execution_count": 13,
   "metadata": {},
   "outputs": [
    {
     "name": "stdout",
     "output_type": "stream",
     "text": [
      "30,-10,200,0.5가 반환되었습니다.\n"
     ]
    }
   ],
   "source": [
    "def add():\n",
    "    a= int(input(\"첫 번째 정수를 입력하시오: \"))\n",
    "    b= int(input(\"두 번째 정수를 입력하시오: \"))\n",
    "    add= a+b\n",
    "    sub= a-b\n",
    "    multi = a*b\n",
    "    div= a/b\n",
    "    return print(f'{add},{sub},{multi},{div}가 반환되었습니다.')\n",
    "add()\n"
   ]
  },
  {
   "cell_type": "code",
   "execution_count": 15,
   "metadata": {},
   "outputs": [
    {
     "name": "stdout",
     "output_type": "stream",
     "text": [
      "성적은 F 입니다\n"
     ]
    }
   ],
   "source": [
    "def getGrade():\n",
    "    score=int(input(\"점수를 입력하세요: \"))\n",
    "    if score >=90:\n",
    "        result=\"A\"\n",
    "    elif score>=80:\n",
    "        result=\"B\"\n",
    "    elif score>=70:\n",
    "        result=\"C\"\n",
    "    elif score>=60:\n",
    "        result=\"D\"\n",
    "    else:\n",
    "        result =\"F\"\n",
    "    return print(f'성적은 {result} 입니다')\n",
    "getGrade()"
   ]
  },
  {
   "cell_type": "code",
   "execution_count": 19,
   "metadata": {},
   "outputs": [
    {
     "name": "stdout",
     "output_type": "stream",
     "text": [
      "'aVsd5678123'는 비밀번호로 사용가능합니다\n"
     ]
    },
    {
     "data": {
      "text/plain": [
       "True"
      ]
     },
     "execution_count": 19,
     "metadata": {},
     "output_type": "execute_result"
    }
   ],
   "source": [
    "def checkPass(p):\n",
    "    if len(p) < 8 :\n",
    "        print(\"패스워드의 길이기 적당하지 않습니다. 8자이상의 패스워드를 다시 입력해주세요.\")\n",
    "        return False\n",
    "\n",
    "    for num in p:\n",
    "        if num.isalnum() == False:\n",
    "            print(\"비밀번호가 알파벳과 숫자로만 구성되어 있지 않습니다. 올바른 패스워드를 다시 입력해주세요.\")\n",
    "            return False\n",
    "\n",
    "    upper = False\n",
    "    lower = False\n",
    "\n",
    "    for num in p:\n",
    "        if upper and lower:\n",
    "            break\n",
    "\n",
    "        if num.isalpha():\n",
    "            if not upper:\n",
    "                upper = num.isupper()\n",
    "\n",
    "            if not lower:\n",
    "                lower = num.islower()\n",
    "\n",
    "    if not upper or not lower:\n",
    "        print(\"'{}'는 영문 대문자 소문자가 혼용되어 있지 않습니다.\".format(p))\n",
    "        return False\n",
    "\n",
    "    print(\"'{}'는 비밀번호로 사용가능합니다\".format(p))\n",
    "    return True\n",
    "checkPass(\"aVsd5678123\")"
   ]
  },
  {
   "cell_type": "code",
   "execution_count": 21,
   "metadata": {},
   "outputs": [
    {
     "name": "stdout",
     "output_type": "stream",
     "text": [
      "정수 50 + 10의 합은?\n"
     ]
    },
    {
     "data": {
      "text/plain": [
       "(None, 60)"
      ]
     },
     "execution_count": 21,
     "metadata": {},
     "output_type": "execute_result"
    }
   ],
   "source": [
    "def math():\n",
    "    a = int(input(\"첫 번째 정수를 입력하시오: \"))\n",
    "    b = int(input(\"두 번째 정수를 입력하시오: \"))\n",
    "    return print(f\"정수 {a} + {b}의 합은?\"), a+b\n",
    "math()"
   ]
  },
  {
   "cell_type": "code",
   "execution_count": 24,
   "metadata": {},
   "outputs": [
    {
     "ename": "UnboundLocalError",
     "evalue": "local variable 'a' referenced before assignment",
     "output_type": "error",
     "traceback": [
      "\u001b[1;31m---------------------------------------------------------------------------\u001b[0m",
      "\u001b[1;31mUnboundLocalError\u001b[0m                         Traceback (most recent call last)",
      "\u001b[1;32m~\\AppData\\Local\\Temp\\ipykernel_15960\\324554446.py\u001b[0m in \u001b[0;36m<module>\u001b[1;34m\u001b[0m\n\u001b[0;32m      5\u001b[0m         \u001b[0mb\u001b[0m\u001b[1;33m=\u001b[0m \u001b[0mint\u001b[0m\u001b[1;33m(\u001b[0m\u001b[0minput\u001b[0m\u001b[1;33m(\u001b[0m\u001b[1;34m'일을 입력하시오: '\u001b[0m\u001b[1;33m)\u001b[0m\u001b[1;33m)\u001b[0m\u001b[1;33m\u001b[0m\u001b[1;33m\u001b[0m\u001b[0m\n\u001b[0;32m      6\u001b[0m     \u001b[1;32mreturn\u001b[0m \u001b[0mprint\u001b[0m\u001b[1;33m(\u001b[0m\u001b[1;34mf\"입력된 날짜는 {a}월 {b} 입니다\"\u001b[0m\u001b[1;33m)\u001b[0m\u001b[1;33m\u001b[0m\u001b[1;33m\u001b[0m\u001b[0m\n\u001b[1;32m----> 7\u001b[1;33m \u001b[0mgetIntRange\u001b[0m\u001b[1;33m(\u001b[0m\u001b[1;33m)\u001b[0m\u001b[1;33m\u001b[0m\u001b[1;33m\u001b[0m\u001b[0m\n\u001b[0m",
      "\u001b[1;32m~\\AppData\\Local\\Temp\\ipykernel_15960\\324554446.py\u001b[0m in \u001b[0;36mgetIntRange\u001b[1;34m()\u001b[0m\n\u001b[0;32m      1\u001b[0m \u001b[1;32mdef\u001b[0m \u001b[0mgetIntRange\u001b[0m\u001b[1;33m(\u001b[0m\u001b[1;33m)\u001b[0m\u001b[1;33m:\u001b[0m\u001b[1;33m\u001b[0m\u001b[1;33m\u001b[0m\u001b[0m\n\u001b[1;32m----> 2\u001b[1;33m     \u001b[1;32mwhile\u001b[0m \u001b[0ma\u001b[0m \u001b[1;32min\u001b[0m \u001b[0mrange\u001b[0m\u001b[1;33m(\u001b[0m\u001b[1;36m1\u001b[0m\u001b[1;33m,\u001b[0m\u001b[1;36m13\u001b[0m\u001b[1;33m)\u001b[0m\u001b[1;33m:\u001b[0m\u001b[1;33m\u001b[0m\u001b[1;33m\u001b[0m\u001b[0m\n\u001b[0m\u001b[0;32m      3\u001b[0m         \u001b[0ma\u001b[0m\u001b[1;33m=\u001b[0m\u001b[0mint\u001b[0m\u001b[1;33m(\u001b[0m\u001b[0minput\u001b[0m\u001b[1;33m(\u001b[0m\u001b[1;34m'월을 입력하시오: '\u001b[0m\u001b[1;33m)\u001b[0m\u001b[1;33m)\u001b[0m\u001b[1;33m\u001b[0m\u001b[1;33m\u001b[0m\u001b[0m\n\u001b[0;32m      4\u001b[0m     \u001b[1;32mwhile\u001b[0m \u001b[0mb\u001b[0m \u001b[1;32min\u001b[0m \u001b[0mrange\u001b[0m\u001b[1;33m(\u001b[0m\u001b[1;36m1\u001b[0m\u001b[1;33m,\u001b[0m\u001b[1;36m31\u001b[0m\u001b[1;33m)\u001b[0m\u001b[1;33m:\u001b[0m\u001b[1;33m\u001b[0m\u001b[1;33m\u001b[0m\u001b[0m\n\u001b[0;32m      5\u001b[0m         \u001b[0mb\u001b[0m\u001b[1;33m=\u001b[0m \u001b[0mint\u001b[0m\u001b[1;33m(\u001b[0m\u001b[0minput\u001b[0m\u001b[1;33m(\u001b[0m\u001b[1;34m'일을 입력하시오: '\u001b[0m\u001b[1;33m)\u001b[0m\u001b[1;33m)\u001b[0m\u001b[1;33m\u001b[0m\u001b[1;33m\u001b[0m\u001b[0m\n",
      "\u001b[1;31mUnboundLocalError\u001b[0m: local variable 'a' referenced before assignment"
     ]
    }
   ],
   "source": [
    "def getIntRange():\n",
    "    while a in range(1,13):\n",
    "        a=int(input('월을 입력하시오: '))\n",
    "    while b in range(1,31):\n",
    "        b= int(input('일을 입력하시오: '))\n",
    "    return print(f\"입력된 날짜는 {a}월 {b} 입니다\")\n",
    "getIntRange()"
   ]
  },
  {
   "cell_type": "code",
   "execution_count": 4,
   "metadata": {},
   "outputs": [
    {
     "name": "stdout",
     "output_type": "stream",
     "text": [
      "다시 입력하세요.\n"
     ]
    }
   ],
   "source": [
    "A = int(input('첫 번째 정수를 입력하시오: '))\n",
    "B = int(input('두 번째 정수를 입력하시오: '))\n",
    "\n",
    "def gcd():\n",
    "    for i in range(min(A,B), 0, -1):\n",
    "        if A % i == 0 and B % i == 0:\n",
    "            print(f'{A}와 {B}의 최대공약수는 {i}입니다.')\n",
    "        else:\n",
    "            print(\"다시 입력하세요.\")\n",
    "        break\n",
    "gcd()\n"
   ]
  },
  {
   "cell_type": "code",
   "execution_count": 9,
   "metadata": {},
   "outputs": [
    {
     "ename": "AttributeError",
     "evalue": "'int' object has no attribute 'append'",
     "output_type": "error",
     "traceback": [
      "\u001b[1;31m---------------------------------------------------------------------------\u001b[0m",
      "\u001b[1;31mAttributeError\u001b[0m                            Traceback (most recent call last)",
      "\u001b[1;32m~\\AppData\\Local\\Temp\\ipykernel_13568\\3009090189.py\u001b[0m in \u001b[0;36m<module>\u001b[1;34m\u001b[0m\n\u001b[0;32m      7\u001b[0m                     \u001b[0mresult\u001b[0m\u001b[1;33m.\u001b[0m\u001b[0mappend\u001b[0m\u001b[1;33m(\u001b[0m\u001b[1;34m'i'\u001b[0m\u001b[1;33m)\u001b[0m\u001b[1;33m\u001b[0m\u001b[1;33m\u001b[0m\u001b[0m\n\u001b[0;32m      8\u001b[0m     \u001b[1;32mreturn\u001b[0m \u001b[0mresult\u001b[0m\u001b[1;33m\u001b[0m\u001b[1;33m\u001b[0m\u001b[0m\n\u001b[1;32m----> 9\u001b[1;33m \u001b[0mtestPrime\u001b[0m\u001b[1;33m(\u001b[0m\u001b[1;36m100\u001b[0m\u001b[1;33m)\u001b[0m\u001b[1;33m\u001b[0m\u001b[1;33m\u001b[0m\u001b[0m\n\u001b[0m",
      "\u001b[1;32m~\\AppData\\Local\\Temp\\ipykernel_13568\\3009090189.py\u001b[0m in \u001b[0;36mtestPrime\u001b[1;34m(n)\u001b[0m\n\u001b[0;32m      5\u001b[0m             \u001b[1;32mif\u001b[0m \u001b[0mi\u001b[0m \u001b[1;33m%\u001b[0m \u001b[0mj\u001b[0m \u001b[1;33m==\u001b[0m\u001b[1;36m0\u001b[0m\u001b[1;33m:\u001b[0m\u001b[1;33m\u001b[0m\u001b[1;33m\u001b[0m\u001b[0m\n\u001b[0;32m      6\u001b[0m                 \u001b[1;32mif\u001b[0m \u001b[0mj\u001b[0m\u001b[1;33m==\u001b[0m\u001b[0mi\u001b[0m\u001b[1;33m:\u001b[0m\u001b[1;33m\u001b[0m\u001b[1;33m\u001b[0m\u001b[0m\n\u001b[1;32m----> 7\u001b[1;33m                     \u001b[0mresult\u001b[0m\u001b[1;33m.\u001b[0m\u001b[0mappend\u001b[0m\u001b[1;33m(\u001b[0m\u001b[1;34m'i'\u001b[0m\u001b[1;33m)\u001b[0m\u001b[1;33m\u001b[0m\u001b[1;33m\u001b[0m\u001b[0m\n\u001b[0m\u001b[0;32m      8\u001b[0m     \u001b[1;32mreturn\u001b[0m \u001b[0mresult\u001b[0m\u001b[1;33m\u001b[0m\u001b[1;33m\u001b[0m\u001b[0m\n\u001b[0;32m      9\u001b[0m \u001b[0mtestPrime\u001b[0m\u001b[1;33m(\u001b[0m\u001b[1;36m100\u001b[0m\u001b[1;33m)\u001b[0m\u001b[1;33m\u001b[0m\u001b[1;33m\u001b[0m\u001b[0m\n",
      "\u001b[1;31mAttributeError\u001b[0m: 'int' object has no attribute 'append'"
     ]
    }
   ],
   "source": [
    "def testPrime(n):\n",
    "    result=0\n",
    "    for i in range(2,n):\n",
    "        for j in range(2,i+1):\n",
    "            if i % j ==0:\n",
    "                if j==i:\n",
    "                    result.append('i')\n",
    "    return result\n",
    "testPrime(100)"
   ]
  }
 ],
 "metadata": {
  "kernelspec": {
   "display_name": "base",
   "language": "python",
   "name": "python3"
  },
  "language_info": {
   "codemirror_mode": {
    "name": "ipython",
    "version": 3
   },
   "file_extension": ".py",
   "mimetype": "text/x-python",
   "name": "python",
   "nbconvert_exporter": "python",
   "pygments_lexer": "ipython3",
   "version": "3.9.15"
  },
  "orig_nbformat": 4
 },
 "nbformat": 4,
 "nbformat_minor": 2
}
